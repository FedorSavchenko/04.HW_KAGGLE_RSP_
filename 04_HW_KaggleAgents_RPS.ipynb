{
  "cells": [
    {
      "cell_type": "markdown",
      "metadata": {
        "id": "view-in-github",
        "colab_type": "text"
      },
      "source": [
        "<a href=\"https://colab.research.google.com/github/FedorSavchenko/04.HW_KAGGLE_RSP_/blob/main/04_HW_KaggleAgents_RPS.ipynb\" target=\"_parent\"><img src=\"https://colab.research.google.com/assets/colab-badge.svg\" alt=\"Open In Colab\"/></a>"
      ]
    },
    {
      "cell_type": "code",
      "execution_count": 30,
      "metadata": {
        "id": "MXXTuy_o0sjk"
      },
      "outputs": [],
      "source": [
        "!pip install -q -U kaggle_environments"
      ]
    },
    {
      "cell_type": "code",
      "execution_count": 31,
      "metadata": {
        "id": "yz23vWHD0wcj"
      },
      "outputs": [],
      "source": [
        "import numpy as np\n",
        "import pandas as pd\n",
        "\n",
        "import matplotlib.pyplot as plt\n",
        "import seaborn as sns\n",
        "\n",
        "from kaggle_environments import make, evaluate"
      ]
    },
    {
      "cell_type": "markdown",
      "metadata": {
        "id": "sh_jPTQNjE8q"
      },
      "source": [
        "#Bot01-incremental\n",
        "примитивный агент который циклично выдает значения "
      ]
    },
    {
      "cell_type": "code",
      "execution_count": 37,
      "metadata": {
        "colab": {
          "base_uri": "https://localhost:8080/"
        },
        "id": "oBS-MSJIp5cG",
        "outputId": "bd638fbf-c769-429c-bce5-06d3e4c20fc5"
      },
      "outputs": [
        {
          "output_type": "stream",
          "name": "stdout",
          "text": [
            "Overwriting incremental_agent.py\n"
          ]
        }
      ],
      "source": [
        "%%writefile incremental_agent.py\n",
        "import random\n",
        "incr_state = 0\n",
        "def agent(observation, configuration):\n",
        "  global incr_state\n",
        "  if observation.step == 0:\n",
        "    incr_state = random.randrange(0, configuration.signs) \n",
        "  incr_state += 1\n",
        "  return incr_state % configuration.signs"
      ]
    },
    {
      "cell_type": "markdown",
      "metadata": {
        "id": "_w2Nj_zMFn5s"
      },
      "source": [
        "#Bot02-Decremental\n",
        "Bot01 не получил ни одного поражения, хотя побед не много, но занимает увернное 4е место в турнироной таблице. Проверим реверсивный порядок цикла."
      ]
    },
    {
      "cell_type": "code",
      "execution_count": 33,
      "metadata": {
        "colab": {
          "base_uri": "https://localhost:8080/"
        },
        "id": "MRSjLjyqGr9J",
        "outputId": "3c4dbb93-9ef0-4a5a-9dac-bd571698e8d6"
      },
      "outputs": [
        {
          "output_type": "stream",
          "name": "stdout",
          "text": [
            "Overwriting decremental_agent.py\n"
          ]
        }
      ],
      "source": [
        "%%writefile decremental_agent.py\n",
        "import random\n",
        "incr_state = 0\n",
        "def agent(observation, configuration):\n",
        "  global incr_state\n",
        "  if observation.step == 0:\n",
        "    incr_state = random.randrange(0, configuration.signs) \n",
        "  incr_state += 2\n",
        "  return incr_state % configuration.signs"
      ]
    },
    {
      "cell_type": "markdown",
      "metadata": {
        "id": "2QJVOROiiQKc"
      },
      "source": [
        "#Bot03-incremental++\n",
        "турнирная таблица показала что\n",
        "\n",
        "А) У Bot01 нет ни одного пораженя но побеждает он только одного агента - copy_opponent\n",
        "\n",
        "B) У Bot02 побед больше он побеждает агента reactionary, который в топе таблицы, но проигрывает агненту copy_opponent,  так же с агентом counter_reactionary в споре,где влияет случайность первого хода\n",
        "\n",
        "Попытаемся улучшить агента Bot01, при этом оставить его без поражения, добавив побед над stone, rock, scissors\n",
        "\n"
      ]
    },
    {
      "cell_type": "code",
      "execution_count": 40,
      "metadata": {
        "colab": {
          "base_uri": "https://localhost:8080/"
        },
        "id": "HOSGo3kXiK5I",
        "outputId": "1616a801-0b6f-4498-e415-2f88b3d5532b"
      },
      "outputs": [
        {
          "output_type": "stream",
          "name": "stdout",
          "text": [
            "Writing incremental_plusplus.py\n"
          ]
        }
      ],
      "source": [
        "%%writefile incremental_plusplus.py\n",
        "import random\n",
        "\n",
        "TESTING_STEPS = 10\n",
        "incr_state = 0\n",
        "opponent_histogram = None\n",
        "\n",
        "def agent(observation, configuration):\n",
        "  \n",
        "  global incr_state\n",
        "  global opponent_histogram\n",
        "  if(opponent_histogram is None):\n",
        "    opponent_histogram = [0]*configuration.signs\n",
        "  \n",
        "  if observation.step == 0:\n",
        "    #first turn\n",
        "    incr_state = random.randrange(0, configuration.signs) \n",
        "    result = incr_state\n",
        "  elif observation.step < TESTING_STEPS or max(opponent_histogram) != observation.step-1:\n",
        "    #researching or first TESTING_STEPS were't same turn value and use incremental tactic\n",
        "    incr_state += 1\n",
        "    result = incr_state % configuration.signs\n",
        "  else:\n",
        "    # scissors, rock paper bots\n",
        "    opponent_turns = opponent_histogram.index(max(opponent_histogram))\n",
        "    result = (opponent_turns + 1) % configuration.signs\n",
        "  if observation.step > 0:\n",
        "    opponent_action = observation.lastOpponentAction\n",
        "    opponent_histogram[opponent_action] += 1\n",
        "\n",
        "  return result"
      ]
    },
    {
      "cell_type": "markdown",
      "source": [
        "\n",
        "#Bot04-counter_statistical\n",
        "Bot03 - с легкостью победив 3х ботов с константой выдачей, попадает на первое место по количеству очков и на второе место по количеству побед.:D Нужно создать несколько тактик против других ботов.\n",
        "Для этого сделаем бота-противника для statistical"
      ],
      "metadata": {
        "id": "vs1u_9fK2Dob"
      }
    },
    {
      "cell_type": "code",
      "source": [
        "#%%writefile counter_statistic.py\n",
        "import random\n",
        "\n",
        "TESTING_STEPS = 3\n",
        "awaiting_statistic_turn = 0\n",
        "my_histogram = None\n",
        "\n",
        "def agent(observation, configuration):\n",
        "  global awaiting_statistic_turn\n",
        "  global my_histogram\n",
        "\n",
        "  if(my_histogram is None):\n",
        "    my_histogram = [0]*configuration.signs\n",
        "\n",
        "  if observation.step == 0:\n",
        "    result = random.randrange(0, configuration.signs) \n",
        "  else:\n",
        "    result = (awaiting_statistic_turn + 1) % configuration.signs\n",
        "\n",
        "  my_histogram[result] += 1\n",
        "  awaiting_statistic_turn = (my_histogram.index(max(my_histogram)) + 1) % configuration.signs\n",
        "\n",
        "  return result"
      ],
      "metadata": {
        "colab": {
          "base_uri": "https://localhost:8080/"
        },
        "id": "oyRgWALr4S7C",
        "outputId": "23286490-782d-4f94-d351-1565759e89ac"
      },
      "execution_count": 35,
      "outputs": [
        {
          "output_type": "stream",
          "name": "stdout",
          "text": [
            "Overwriting counter_statistic.py\n"
          ]
        }
      ]
    },
    {
      "cell_type": "code",
      "source": [
        "evaluate(\n",
        "      \"rps\", \n",
        "      [\"counter_statistic.py\", \"statistical\"], \n",
        "      configuration={\"episodeSteps\": 100},\n",
        "      num_episodes = 10\n",
        "    )\n"
      ],
      "metadata": {
        "colab": {
          "base_uri": "https://localhost:8080/"
        },
        "id": "wy6KNmGoOrko",
        "outputId": "37bf19a9-b490-47e1-c5ce-3129b88e191d"
      },
      "execution_count": 39,
      "outputs": [
        {
          "output_type": "execute_result",
          "data": {
            "text/plain": [
              "[[0, 0],\n",
              " [66.0, -66.0],\n",
              " [66.0, -66.0],\n",
              " [0, 0],\n",
              " [66.0, -66.0],\n",
              " [0, 0],\n",
              " [0, 0],\n",
              " [66.0, -66.0],\n",
              " [0, 0],\n",
              " [66.0, -66.0]]"
            ]
          },
          "metadata": {},
          "execution_count": 39
        }
      ]
    },
    {
      "cell_type": "markdown",
      "source": [
        "\n",
        "#Bot05-counter_statistic+\n",
        "Bot04 - С вероятностью 66% побеждает statistical, как побочный эффект побеждает reactional and counter_reactional, но при этом проигрывает боту copy_opponent. Улучшим его и поставим защиту от copy opponent"
      ],
      "metadata": {
        "id": "HNknLte1VmLx"
      }
    },
    {
      "cell_type": "code",
      "source": [
        "%%writefile counter_statistic_plus.py\n",
        "import random\n",
        "\n",
        "TESTING_STEPS = 10\n",
        "\n",
        "opponent_tactics = {\n",
        "    \"statistic\":0,\n",
        "    \"copy\":0,\n",
        "    \"defence\":0\n",
        "}\n",
        "\n",
        "awaiting_statistic_turn = 0\n",
        "awaiting_defence_turn = 0\n",
        "awaiting_copy_turn = 0\n",
        "\n",
        "incr_state = 0\n",
        "my_histogram = None\n",
        "\n",
        "def agent(observation, configuration):\n",
        "  global incr_state\n",
        "  global awaiting_statistic_turn\n",
        "  global awaiting_defence_turn\n",
        "  global awaiting_copy_turn\n",
        "  global my_histogram\n",
        "  global opponent_tactics\n",
        "  \n",
        "  result = 0 \n",
        "  if(my_histogram is None):\n",
        "    my_histogram = [0]*configuration.signs\n",
        "  \n",
        "  #first turn\n",
        "  if observation.step == 0:\n",
        "    incr_state = random.randrange(0, configuration.signs - 1) \n",
        "    result = incr_state\n",
        "  \n",
        "  #collecting statistic\n",
        "  elif observation.step < TESTING_STEPS:\n",
        "    incr_state += 1\n",
        "    result = incr_state % configuration.signs\n",
        "  else:\n",
        "    predicted_tactic = max(opponent_tactics.items(), key = lambda e:e[1])[0]\n",
        "    \n",
        "    if predicted_tactic == \"statistic\":\n",
        "      result = (awaiting_statistic_turn + 1) % configuration.signs\n",
        "    \n",
        "    elif predicted_tactic == \"copy\":\n",
        "      result = awaiting_statistic_turn % configuration.signs\n",
        "    \n",
        "    elif predicted_tactic == \"defence\":\n",
        "      result = (awaiting_statistic_turn + 2) % configuration.signs\n",
        "\n",
        "  #calc opponent tactic stat\n",
        "  if(observation.step > 0):\n",
        "    opponent_action = observation.lastOpponentAction\n",
        "    if(opponent_action == awaiting_statistic_turn):\n",
        "      opponent_tactics[\"statistic\"] += 1\n",
        "  \n",
        "    if(opponent_action == awaiting_defence_turn):\n",
        "      opponent_tactics[\"defence\"] += 1\n",
        "\n",
        "    if(opponent_action == awaiting_copy_turn):\n",
        "      opponent_tactics[\"copy\"] += 1\n",
        "  \n",
        "\n",
        "  #calc my stat\n",
        "  my_histogram[result] += 1\n",
        "  my_hist_maxsign = my_histogram.index(max(my_histogram))\n",
        "  awaiting_statistic_turn = (my_hist_maxsign + 1) % configuration.signs\n",
        "  awaiting_defence_turn = (my_hist_maxsign + 2) % configuration.signs\n",
        "  awaiting_copy_turn = my_hist_maxsign  % configuration.signs\n",
        "\n",
        "  return result"
      ],
      "metadata": {
        "colab": {
          "base_uri": "https://localhost:8080/"
        },
        "id": "cxYPMO-SXGcD",
        "outputId": "5058bb52-d893-4fb1-8eab-adf1eff2112d"
      },
      "execution_count": 49,
      "outputs": [
        {
          "output_type": "stream",
          "name": "stdout",
          "text": [
            "Writing counter_statistic_plus.py\n"
          ]
        }
      ]
    },
    {
      "cell_type": "code",
      "execution_count": 51,
      "metadata": {
        "colab": {
          "base_uri": "https://localhost:8080/"
        },
        "id": "tj1do0r1pA9b",
        "outputId": "93348ff3-af50-4dce-8e0d-0a18402b344d"
      },
      "outputs": [
        {
          "output_type": "execute_result",
          "data": {
            "text/plain": [
              "[[47.0, -47.0],\n",
              " [47.0, -47.0],\n",
              " [51.0, -51.0],\n",
              " [53.0, -53.0],\n",
              " [48.0, -48.0],\n",
              " [53.0, -53.0],\n",
              " [53.0, -53.0],\n",
              " [53.0, -53.0],\n",
              " [48.0, -48.0],\n",
              " [49.0, -49.0]]"
            ]
          },
          "metadata": {},
          "execution_count": 51
        }
      ],
      "source": [
        "evaluate(\n",
        "      \"rps\", \n",
        "      #[\"incremental_Alpha.py\", \"statistical\"], \n",
        "      [\"counter_statistic_plus.py\", \"copy_opponent\"], \n",
        "      configuration={\"episodeSteps\": 100},\n",
        "      num_episodes = 10\n",
        "    )\n"
      ]
    },
    {
      "cell_type": "markdown",
      "source": [
        "#Bot06-MultyTacticAnalyse\n",
        "Bot05 - Справляется с ботами copy_opponent и statistical. Добавим логику Bot03,чтоб стравлялся с константными."
      ],
      "metadata": {
        "id": "XiEg4EtZsqq6"
      }
    },
    {
      "cell_type": "code",
      "source": [
        "%%writefile multy_tactic_analyse.py\n",
        "import random\n",
        "\n",
        "TESTING_STEPS = 10\n",
        "\n",
        "opponent_tactics = {\n",
        "    \"statistic\":0,\n",
        "    \"copy\":0,\n",
        "    \"defence\":0,\n",
        "    \"repeat\":0,\n",
        "}\n",
        "\n",
        "awaiting_statistic_turn = 0\n",
        "awaiting_defence_turn = 0\n",
        "awaiting_copy_turn = 0\n",
        "\n",
        "incr_state = 0\n",
        "my_histogram = None\n",
        "\n",
        "opponent_old_action = 0\n",
        "\n",
        "def agent(observation, configuration):\n",
        "  global incr_state\n",
        "  global awaiting_statistic_turn\n",
        "  global awaiting_defence_turn\n",
        "  global awaiting_copy_turn\n",
        "  global my_histogram\n",
        "  global opponent_tactics\n",
        "  global opponent_old_action\n",
        "  \n",
        "  result = 0 \n",
        "  if(my_histogram is None):\n",
        "    my_histogram = [0]*configuration.signs\n",
        "  \n",
        "  #first turn\n",
        "  if observation.step == 0:\n",
        "    incr_state = random.randrange(0, configuration.signs - 1) \n",
        "    result = incr_state\n",
        "  \n",
        "  #collecting statistic\n",
        "  elif observation.step < TESTING_STEPS:\n",
        "    incr_state += 1\n",
        "    result = incr_state % configuration.signs\n",
        "  else:\n",
        "    predicted_tactic = max(opponent_tactics.items(), key = lambda e:e[1])[0]\n",
        "    \n",
        "    if predicted_tactic == \"statistic\":\n",
        "      result = (awaiting_statistic_turn + 1) % configuration.signs\n",
        "    \n",
        "    elif predicted_tactic == \"copy\":\n",
        "      result = awaiting_statistic_turn % configuration.signs\n",
        "    \n",
        "    elif predicted_tactic == \"defence\":\n",
        "      result = (awaiting_statistic_turn + 2) % configuration.signs\n",
        "\n",
        "    elif predicted_tactic == \"repeat\":\n",
        "      result = (opponent_old_action + 1) % configuration.signs\n",
        "\n",
        "\n",
        "  #calc opponent tactic stat\n",
        "  if(observation.step > 0):\n",
        "    opponent_action = observation.lastOpponentAction\n",
        "    if(opponent_action == opponent_old_action):\n",
        "      opponent_tactics[\"repeat\"] += 1\n",
        "\n",
        "    if(opponent_action == awaiting_statistic_turn):\n",
        "      opponent_tactics[\"statistic\"] += 1\n",
        "  \n",
        "    if(opponent_action == awaiting_defence_turn):\n",
        "      opponent_tactics[\"defence\"] += 1\n",
        "\n",
        "    if(opponent_action == awaiting_copy_turn):\n",
        "      opponent_tactics[\"copy\"] += 1\n",
        "\n",
        "    opponent_old_action = opponent_action\n",
        "  \n",
        "\n",
        "  #calc my stat\n",
        "  my_histogram[result] += 1\n",
        "  my_hist_maxsign = my_histogram.index(max(my_histogram))\n",
        "  awaiting_statistic_turn = (my_hist_maxsign + 1) % configuration.signs\n",
        "  awaiting_defence_turn = (my_hist_maxsign + 2) % configuration.signs\n",
        "  awaiting_copy_turn = my_hist_maxsign  % configuration.signs\n",
        "\n",
        "  return result"
      ],
      "metadata": {
        "colab": {
          "base_uri": "https://localhost:8080/"
        },
        "id": "WCGOTtjSsp-n",
        "outputId": "36c01992-0b6c-4018-c41d-9cf1499c2a15"
      },
      "execution_count": 64,
      "outputs": [
        {
          "output_type": "stream",
          "name": "stdout",
          "text": [
            "Writing multy_tactic_analyse.py\n"
          ]
        }
      ]
    },
    {
      "cell_type": "markdown",
      "source": [
        "#Bot07-MultyTacticAnalyse_2\n",
        "Bot06 - Бесспорный лидер, по очкам, победам, при этом нет ни одного поражения. Добавим логику чтоб справлялся с Incremenal и Decremental "
      ],
      "metadata": {
        "id": "D5UYg4GZwgmQ"
      }
    },
    {
      "cell_type": "code",
      "source": [
        "%%writefile multy_tactic_analyse_2.py\n",
        "import random\n",
        "\n",
        "TESTING_STEPS = 10\n",
        "\n",
        "opponent_tactics = {\n",
        "    \"statistic\":0,\n",
        "    \"copy\":0,\n",
        "    \"defence\":0,\n",
        "    \"repeat\":0,\n",
        "    \"increment\":0,\n",
        "    \"decrement\":0,\n",
        "}\n",
        "\n",
        "awaiting_statistic_turn = 0\n",
        "awaiting_defence_turn = 0\n",
        "awaiting_copy_turn = 0\n",
        "\n",
        "incr_state = 0\n",
        "my_histogram = None\n",
        "\n",
        "opponent_old_action = 0\n",
        "\n",
        "def agent(observation, configuration):\n",
        "  global incr_state\n",
        "  global awaiting_statistic_turn\n",
        "  global awaiting_defence_turn\n",
        "  global awaiting_copy_turn\n",
        "  global my_histogram\n",
        "  global opponent_tactics\n",
        "  global opponent_old_action\n",
        "  \n",
        "  result = 0 \n",
        "  if(my_histogram is None):\n",
        "    my_histogram = [0] * configuration.signs\n",
        "  \n",
        "  #first turn\n",
        "  if observation.step == 0:\n",
        "    incr_state = random.randrange(0, configuration.signs - 1) \n",
        "    result = incr_state\n",
        "  \n",
        "  #till collecting statistic\n",
        "  elif observation.step < TESTING_STEPS:\n",
        "    incr_state += 1\n",
        "    result = incr_state % configuration.signs\n",
        "  else:\n",
        "    predicted_tactic = max(opponent_tactics.items(), key = lambda e:e[1])[0]\n",
        "    \n",
        "    if predicted_tactic == \"statistic\":\n",
        "      result = (awaiting_statistic_turn + 1) % configuration.signs\n",
        "    \n",
        "    elif predicted_tactic == \"copy\":\n",
        "      result = awaiting_statistic_turn % configuration.signs\n",
        "    \n",
        "    elif predicted_tactic == \"defence\":\n",
        "      result = (awaiting_statistic_turn + 2) % configuration.signs\n",
        "\n",
        "    elif predicted_tactic == \"repeat\":\n",
        "      result = (opponent_old_action + 1) % configuration.signs\n",
        "\n",
        "    elif predicted_tactic == \"increment\":\n",
        "      result = opponent_old_action % configuration.signs\n",
        "    \n",
        "    elif predicted_tactic == \"decrement\":\n",
        "      result = (opponent_old_action + 2) % configuration.signs\n",
        "\n",
        "  #calc opponent tactic stat\n",
        "  if observation.step > 0 :\n",
        "    opponent_action = observation.lastOpponentAction\n",
        "    if opponent_action == opponent_old_action :\n",
        "      opponent_tactics[\"repeat\"] += 1\n",
        "    \n",
        "    if opponent_action == (opponent_old_action + 1) % configuration.signs:\n",
        "      opponent_tactics[\"increment\"] += 1\n",
        "\n",
        "    if opponent_action == (opponent_old_action + 2) % configuration.signs:\n",
        "      opponent_tactics[\"decrement\"] += 1\n",
        "\n",
        "    if opponent_action == awaiting_statistic_turn:\n",
        "      opponent_tactics[\"statistic\"] += 1\n",
        "  \n",
        "    if(opponent_action == awaiting_defence_turn):\n",
        "      opponent_tactics[\"defence\"] += 1\n",
        "\n",
        "    if(opponent_action == awaiting_copy_turn):\n",
        "      opponent_tactics[\"copy\"] += 1\n",
        "\n",
        "    opponent_old_action = opponent_action\n",
        "  \n",
        "\n",
        "  #calc my stat\n",
        "  my_histogram[result] += 1\n",
        "  my_hist_maxsign = my_histogram.index(max(my_histogram))\n",
        "  awaiting_statistic_turn = (my_hist_maxsign + 1) % configuration.signs\n",
        "  awaiting_defence_turn = (my_hist_maxsign + 2) % configuration.signs\n",
        "  awaiting_copy_turn = my_hist_maxsign  % configuration.signs\n",
        "\n",
        "  return result"
      ],
      "metadata": {
        "colab": {
          "base_uri": "https://localhost:8080/"
        },
        "id": "HXEEu7aIwhu1",
        "outputId": "dcaa952f-296f-4e1a-999b-7c5a8320370b"
      },
      "execution_count": 62,
      "outputs": [
        {
          "output_type": "stream",
          "name": "stdout",
          "text": [
            "Writing multy_tactic_analyse_2.py\n"
          ]
        }
      ]
    },
    {
      "cell_type": "code",
      "source": [
        "evaluate(\n",
        "      \"rps\", \n",
        "      #[\"incremental_Alpha.py\", \"statistical\"], \n",
        "      [\"multy_tactic_analyse_2.py\", \"decremental_agent.py\"], \n",
        "      configuration={\"episodeSteps\": 100},\n",
        "      num_episodes = 10\n",
        "    )"
      ],
      "metadata": {
        "colab": {
          "base_uri": "https://localhost:8080/"
        },
        "id": "b1heNEYXu_eq",
        "outputId": "d90267c5-feb9-468d-9cbc-aecc300868a4"
      },
      "execution_count": 63,
      "outputs": [
        {
          "output_type": "execute_result",
          "data": {
            "text/plain": [
              "[[88.0, -88.0],\n",
              " [88.0, -88.0],\n",
              " [90.0, -90.0],\n",
              " [89.0, -89.0],\n",
              " [89.0, -89.0],\n",
              " [89.0, -89.0],\n",
              " [88.0, -88.0],\n",
              " [89.0, -89.0],\n",
              " [88.0, -88.0],\n",
              " [89.0, -89.0]]"
            ]
          },
          "metadata": {},
          "execution_count": 63
        }
      ]
    },
    {
      "cell_type": "markdown",
      "source": [
        "\n",
        "#Bot08-testBot_Random\n",
        "Bot07 - Превзошел все ожидания одержав 29 побед из 33, где 2 ничьи и 2 поражения своим младшим братьям. Но теперь нужно проверить настолько ли он хорош на самом деле. Создадим ему разных оппоненов. Куда же нам без рандом бота)"
      ],
      "metadata": {
        "id": "baGDMoYL5ZaY"
      }
    },
    {
      "cell_type": "code",
      "source": [
        "%%writefile random_agent.py\n",
        "import random\n",
        "def agent(observation, configuration):\n",
        "  return random.randrange(0, configuration.signs) "
      ],
      "metadata": {
        "colab": {
          "base_uri": "https://localhost:8080/"
        },
        "id": "Fj9UVB-s5W9m",
        "outputId": "2dd4b602-d848-4c4e-c5d1-7204e6b2f91d"
      },
      "execution_count": 61,
      "outputs": [
        {
          "output_type": "stream",
          "name": "stdout",
          "text": [
            "Writing random_agent.py\n"
          ]
        }
      ]
    },
    {
      "cell_type": "markdown",
      "source": [
        "#Bot09-testBot_WrongOrder_1\n",
        "к самому сильному боту Bot07, создаем различные тесты.\n",
        "\n",
        "0,1,2,1,0,1,2,1,0..."
      ],
      "metadata": {
        "id": "Ooe_04jL5Vb7"
      }
    },
    {
      "cell_type": "code",
      "source": [
        "%%writefile wrong_order_1.py\n",
        "increment = 0\n",
        "order = [0,1,2,1]\n",
        "def agent(observation, configuration):\n",
        "  global increment\n",
        "  increment += 1\n",
        "  return order[increment % len(order)]"
      ],
      "metadata": {
        "colab": {
          "base_uri": "https://localhost:8080/"
        },
        "id": "Szv21xij8NRL",
        "outputId": "d4b5fa36-c7ff-4805-a3a1-99b5bd0fc3e0"
      },
      "execution_count": 60,
      "outputs": [
        {
          "output_type": "stream",
          "name": "stdout",
          "text": [
            "Writing wrong_order_1.py\n"
          ]
        }
      ]
    },
    {
      "cell_type": "markdown",
      "source": [
        "#Bot10-testBot_WrongOrder_2\n",
        "к самому сильному боту Bot07, создаем различные тесты.\n",
        "\n",
        "0,0,0,0,1,1,1,2,2"
      ],
      "metadata": {
        "id": "iwYVGxng-JUq"
      }
    },
    {
      "cell_type": "code",
      "source": [
        "%%writefile wrong_order_2.py\n",
        "increment = 0\n",
        "order = [0,0,0,0,1,1,1,2,2]\n",
        "def agent(observation, configuration):\n",
        "  global increment\n",
        "  increment += 1\n",
        "  return order[increment % len(order)]"
      ],
      "metadata": {
        "colab": {
          "base_uri": "https://localhost:8080/"
        },
        "id": "-tCAWvtd-HXr",
        "outputId": "654e104b-86a6-48ea-cb91-2a904880b419"
      },
      "execution_count": 59,
      "outputs": [
        {
          "output_type": "stream",
          "name": "stdout",
          "text": [
            "Writing wrong_order_2.py\n"
          ]
        }
      ]
    },
    {
      "cell_type": "markdown",
      "source": [
        "#Bot11-testBot_WrongOrder_3\n",
        "к самому сильному боту Bot07, создаем различные тесты.\n",
        "\n",
        "0,2,1,0,1,0,2,1"
      ],
      "metadata": {
        "id": "Vuk_zxvMBj-i"
      }
    },
    {
      "cell_type": "code",
      "source": [
        "%%writefile wrong_order_3.py\n",
        "increment = 0\n",
        "order = [0,2,1,0,1,0,2,1]\n",
        "def agent(observation, configuration):\n",
        "  global increment\n",
        "  increment += 1\n",
        "  return order[increment % len(order)]"
      ],
      "metadata": {
        "colab": {
          "base_uri": "https://localhost:8080/"
        },
        "id": "VNx0A0FJB2i8",
        "outputId": "12979312-5614-4f01-f914-25a73c70bba0"
      },
      "execution_count": 58,
      "outputs": [
        {
          "output_type": "stream",
          "name": "stdout",
          "text": [
            "Writing wrong_order_3.py\n"
          ]
        }
      ]
    },
    {
      "cell_type": "markdown",
      "source": [
        "#Bot12-AntiBoss \n",
        "попробуем сделать противника для Bot07, добавив к результату в конце 1, чтоб вернуть выигрышную коибинацию\n"
      ],
      "metadata": {
        "id": "XaWlQ_ODDbvU"
      }
    },
    {
      "cell_type": "code",
      "source": [
        "%%writefile anti_boss.py\n",
        "import random\n",
        "\n",
        "TESTING_STEPS = 10\n",
        "\n",
        "opponent_tactics = {\n",
        "    \"statistic\":0,\n",
        "    \"copy\":0,\n",
        "    \"defence\":0,\n",
        "    \"repeat\":0,\n",
        "    \"increment\":0,\n",
        "    \"decrement\":0,\n",
        "}\n",
        "\n",
        "awaiting_statistic_turn = 0\n",
        "awaiting_defence_turn = 0\n",
        "awaiting_copy_turn = 0\n",
        "\n",
        "incr_state = 0\n",
        "my_histogram = None\n",
        "\n",
        "opponent_old_action = 0\n",
        "\n",
        "def agent(observation, configuration):\n",
        "  global incr_state\n",
        "  global awaiting_statistic_turn\n",
        "  global awaiting_defence_turn\n",
        "  global awaiting_copy_turn\n",
        "  global my_histogram\n",
        "  global opponent_tactics\n",
        "  global opponent_old_action\n",
        "  \n",
        "  result = 0 \n",
        "  if(my_histogram is None):\n",
        "    my_histogram = [0] * configuration.signs\n",
        "  \n",
        "  #first turn\n",
        "  if observation.step == 0:\n",
        "    incr_state = 0#random.randrange(0, configuration.signs - 1) \n",
        "    result = incr_state\n",
        "  \n",
        "  #till collecting statistic\n",
        "  elif observation.step < TESTING_STEPS:\n",
        "    incr_state += 1\n",
        "    result = incr_state % configuration.signs\n",
        "  else:\n",
        "    predicted_tactic = max(opponent_tactics.items(), key = lambda e:e[1])[0]\n",
        "    \n",
        "    if predicted_tactic == \"statistic\":\n",
        "      result = (awaiting_statistic_turn + 1) % configuration.signs\n",
        "    \n",
        "    elif predicted_tactic == \"copy\":\n",
        "      result = awaiting_statistic_turn % configuration.signs\n",
        "    \n",
        "    elif predicted_tactic == \"defence\":\n",
        "      result = (awaiting_statistic_turn + 2) % configuration.signs\n",
        "\n",
        "    elif predicted_tactic == \"repeat\":\n",
        "      result = (opponent_old_action + 1) % configuration.signs\n",
        "\n",
        "    elif predicted_tactic == \"increment\":\n",
        "      result = opponent_old_action % configuration.signs\n",
        "    \n",
        "    elif predicted_tactic == \"decrement\":\n",
        "      result = (opponent_old_action + 2) % configuration.signs\n",
        "\n",
        "  #calc opponent tactic stat\n",
        "  if observation.step > 0 :\n",
        "    opponent_action = observation.lastOpponentAction\n",
        "    if opponent_action == opponent_old_action :\n",
        "      opponent_tactics[\"repeat\"] += 1\n",
        "    \n",
        "    if opponent_action == (opponent_old_action + 1) % configuration.signs:\n",
        "      opponent_tactics[\"increment\"] += 1\n",
        "\n",
        "    if opponent_action == (opponent_old_action + 2) % configuration.signs:\n",
        "      opponent_tactics[\"decrement\"] += 1\n",
        "\n",
        "    if opponent_action == awaiting_statistic_turn:\n",
        "      opponent_tactics[\"statistic\"] += 1\n",
        "  \n",
        "    if(opponent_action == awaiting_defence_turn):\n",
        "      opponent_tactics[\"defence\"] += 1\n",
        "\n",
        "    if(opponent_action == awaiting_copy_turn):\n",
        "      opponent_tactics[\"copy\"] += 1\n",
        "\n",
        "    opponent_old_action = opponent_action\n",
        "  \n",
        "\n",
        "  #calc my stat\n",
        "  result = (result + 1) % configuration.signs\n",
        "  my_histogram[result] += 1\n",
        "  my_hist_maxsign = my_histogram.index(max(my_histogram))\n",
        "  awaiting_statistic_turn = (my_hist_maxsign + 1) % configuration.signs\n",
        "  awaiting_defence_turn = (my_hist_maxsign + 2) % configuration.signs\n",
        "  awaiting_copy_turn = my_hist_maxsign  % configuration.signs\n",
        "\n",
        "  return result"
      ],
      "metadata": {
        "colab": {
          "base_uri": "https://localhost:8080/"
        },
        "id": "ShezORl6D_jc",
        "outputId": "c4a96cbc-0078-4eb6-9e35-bb52aac182d3"
      },
      "execution_count": 66,
      "outputs": [
        {
          "output_type": "stream",
          "name": "stdout",
          "text": [
            "Overwriting anti_boss.py\n"
          ]
        }
      ]
    },
    {
      "cell_type": "code",
      "source": [
        "evaluate(\n",
        "      \"rps\", \n",
        "      [\"anti_boss.py\",\"multy_tactic_analyse_2.py\"], \n",
        "      configuration={\"episodeSteps\": 100},\n",
        "      num_episodes = 10\n",
        "    )"
      ],
      "metadata": {
        "colab": {
          "base_uri": "https://localhost:8080/"
        },
        "id": "vUr5eKyVD_FO",
        "outputId": "7e884226-e242-4a57-9f0c-61ec41e28b50"
      },
      "execution_count": 67,
      "outputs": [
        {
          "output_type": "execute_result",
          "data": {
            "text/plain": [
              "[[0, 0],\n",
              " [54.0, -54.0],\n",
              " [0, 0],\n",
              " [54.0, -54.0],\n",
              " [54.0, -54.0],\n",
              " [0, 0],\n",
              " [0, 0],\n",
              " [0, 0],\n",
              " [54.0, -54.0],\n",
              " [0, 0]]"
            ]
          },
          "metadata": {},
          "execution_count": 67
        }
      ]
    },
    {
      "cell_type": "markdown",
      "metadata": {
        "id": "KAL8Fe_lj2E2"
      },
      "source": [
        "# Регистрация Агентов к турниру"
      ]
    },
    {
      "cell_type": "code",
      "execution_count": 54,
      "metadata": {
        "colab": {
          "base_uri": "https://localhost:8080/"
        },
        "id": "oukzKwuWij_a",
        "outputId": "99df8731-ab99-4b9d-a4cb-f46d05812349"
      },
      "outputs": [
        {
          "output_type": "stream",
          "name": "stdout",
          "text": [
            "    incremental_agent.py          \tscore:0,     \tw|d|l: 0, 0, 0    \n",
            "losed to:set() \n",
            "\n",
            "    decremental_agent.py          \tscore:0,     \tw|d|l: 0, 0, 0    \n",
            "losed to:set() \n",
            "\n",
            "    incremental_plusplus.py       \tscore:0,     \tw|d|l: 0, 0, 0    \n",
            "losed to:set() \n",
            "\n",
            "    counter_statistic.py          \tscore:0,     \tw|d|l: 0, 0, 0    \n",
            "losed to:set() \n",
            "\n",
            "    counter_statistic_plus.py     \tscore:0,     \tw|d|l: 0, 0, 0    \n",
            "losed to:set() \n",
            "\n",
            "    multy_tactic_analyse.py       \tscore:0,     \tw|d|l: 0, 0, 0    \n",
            "losed to:set() \n",
            "\n",
            "    multy_tactic_analyse_2.py     \tscore:0,     \tw|d|l: 0, 0, 0    \n",
            "losed to:set() \n",
            "\n",
            "    random_agent.py               \tscore:0,     \tw|d|l: 0, 0, 0    \n",
            "losed to:set() \n",
            "\n",
            "    wrong_order_1.py              \tscore:0,     \tw|d|l: 0, 0, 0    \n",
            "losed to:set() \n",
            "\n",
            "    wrong_order_2.py              \tscore:0,     \tw|d|l: 0, 0, 0    \n",
            "losed to:set() \n",
            "\n",
            "    wrong_order_3.py              \tscore:0,     \tw|d|l: 0, 0, 0    \n",
            "losed to:set() \n",
            "\n",
            "    anti_boss.py                  \tscore:0,     \tw|d|l: 0, 0, 0    \n",
            "losed to:set() \n",
            "\n",
            "    rock                         \tscore:0,     \tw|d|l: 0, 0, 0    \n",
            "losed to:set() \n",
            "\n",
            "    paper                         \tscore:0,     \tw|d|l: 0, 0, 0    \n",
            "losed to:set() \n",
            "\n",
            "    scissors                      \tscore:0,     \tw|d|l: 0, 0, 0    \n",
            "losed to:set() \n",
            "\n",
            "    copy_opponent                 \tscore:0,     \tw|d|l: 0, 0, 0    \n",
            "losed to:set() \n",
            "\n",
            "    reactionary                   \tscore:0,     \tw|d|l: 0, 0, 0    \n",
            "losed to:set() \n",
            "\n",
            "    counter_reactionary           \tscore:0,     \tw|d|l: 0, 0, 0    \n",
            "losed to:set() \n",
            "\n",
            "    statistical                   \tscore:0,     \tw|d|l: 0, 0, 0    \n",
            "losed to:set() \n",
            "\n",
            "Agents Ready. Here we go!\n"
          ]
        }
      ],
      "source": [
        "kaggle_agents = [\n",
        "    \"rock\", \n",
        "    \"paper\", \n",
        "    \"scissors\",\n",
        "    \"copy_opponent\",\n",
        "    \"reactionary\",\n",
        "    \"counter_reactionary\",\n",
        "    \"statistical\"\n",
        "]\n",
        "\n",
        "my_agents = [\n",
        "    \"incremental_agent.py\",\n",
        "    \"decremental_agent.py\",\n",
        "    \"incremental_plusplus.py\",\n",
        "    \"counter_statistic.py\",\n",
        "    \"counter_statistic_plus.py\",\n",
        "    \"multy_tactic_analyse.py\",\n",
        "    \"multy_tactic_analyse_2.py\",\n",
        "    \"random_agent.py\",\n",
        "    \"wrong_order_1.py\",\n",
        "    \"wrong_order_2.py\",\n",
        "    \"wrong_order_3.py\",\n",
        "    \"anti_boss.py\"\n",
        "]\n",
        "\n",
        "agent_names =  my_agents + kaggle_agents\n",
        "\n",
        "#better to use clsss here but it is out of study scope now\n",
        "def create_agent_result(name):\n",
        "  obj = lambda:None\n",
        "  obj.name = name\n",
        "  def reset():\n",
        "    obj.score = 0\n",
        "    obj.wins = 0\n",
        "    obj.plays = 0\n",
        "    obj.draws = 0\n",
        "    obj.stronger_oppenents = set()  \n",
        "  obj.reset = reset\n",
        "  reset()\n",
        "\n",
        "  obj.to_string = lambda:f\"\\\n",
        "    {(obj.name + ' '*20)[:25]} \\\n",
        "    \\tscore:{obj.score}, \\\n",
        "    \\tw|d|l: {obj.wins}, {obj.draws}, {obj.plays - obj.wins - obj.draws}\\\n",
        "    \\nlosed to:{obj.stronger_oppenents}\"\n",
        "  return obj\n",
        "\n",
        "reward_dict = {}\n",
        "reward_list = [] #for sorting\n",
        "\n",
        "for i in agent_names:\n",
        "  new_agent = create_agent_result(i)\n",
        "  reward_dict[i] = new_agent;\n",
        "  reward_list.append(new_agent)\n",
        "  print(new_agent.to_string(),\"\\n\")\n",
        "print(\"Agents Ready. Here we go!\")"
      ]
    },
    {
      "cell_type": "markdown",
      "metadata": {
        "id": "QLBZxx8rtQjj"
      },
      "source": [
        "#Турнир"
      ]
    },
    {
      "cell_type": "code",
      "execution_count": 65,
      "metadata": {
        "colab": {
          "base_uri": "https://localhost:8080/"
        },
        "id": "4D6KAi-ui_wk",
        "outputId": "6bc76a20-89fe-4499-87cc-117e615c6ae0"
      },
      "outputs": [
        {
          "output_type": "stream",
          "name": "stdout",
          "text": [
            "1.    multy_tactic_analyse_2.py     \tscore:2359.0,     \tw|d|l: 40, 9, 5    \n",
            "losed to:{'multy_tactic_analyse.py', 'counter_statistic_plus.py', 'anti_boss.py'}.\n",
            "\n",
            "2.    multy_tactic_analyse.py       \tscore:1309.0,     \tw|d|l: 21, 33, 0    \n",
            "losed to:set().\n",
            "\n",
            "3.    statistical                   \tscore:602.0,     \tw|d|l: 21, 18, 15    \n",
            "losed to:{'reactionary', 'multy_tactic_analyse_2.py', 'multy_tactic_analyse.py', 'counter_statistic_plus.py', 'counter_statistic.py'}.\n",
            "\n",
            "4.    reactionary                   \tscore:149.0,     \tw|d|l: 20, 17, 17    \n",
            "losed to:{'wrong_order_3.py', 'multy_tactic_analyse_2.py', 'counter_reactionary', 'wrong_order_1.py', 'copy_opponent', 'decremental_agent.py', 'counter_statistic.py'}.\n",
            "\n",
            "5.    incremental_plusplus.py       \tscore:1120.0,     \tw|d|l: 18, 31, 5    \n",
            "losed to:{'incremental_agent.py', 'multy_tactic_analyse_2.py'}.\n",
            "\n",
            "6.    counter_reactionary           \tscore:-209.0,     \tw|d|l: 17, 20, 17    \n",
            "losed to:{'wrong_order_3.py', 'multy_tactic_analyse_2.py', 'wrong_order_1.py', 'copy_opponent', 'decremental_agent.py', 'counter_statistic.py', 'anti_boss.py'}.\n",
            "\n",
            "7.    counter_statistic_plus.py     \tscore:546.0,     \tw|d|l: 13, 35, 6    \n",
            "losed to:{'incremental_agent.py', 'multy_tactic_analyse_2.py', 'decremental_agent.py', 'multy_tactic_analyse.py', 'incremental_plusplus.py'}.\n",
            "\n",
            "8.    copy_opponent                 \tscore:-347.0,     \tw|d|l: 13, 15, 26    \n",
            "losed to:{'incremental_agent.py', 'reactionary', 'multy_tactic_analyse_2.py', 'incremental_plusplus.py', 'statistical', 'wrong_order_2.py', 'multy_tactic_analyse.py', 'counter_statistic_plus.py', 'anti_boss.py'}.\n",
            "\n",
            "9.    anti_boss.py                  \tscore:-2091.0,     \tw|d|l: 13, 9, 32    \n",
            "losed to:{'incremental_agent.py', 'wrong_order_3.py', 'rock', 'reactionary', 'scissors', 'counter_reactionary', 'incremental_plusplus.py', 'paper', 'statistical', 'decremental_agent.py', 'counter_statistic_plus.py', 'counter_statistic.py'}.\n",
            "\n",
            "10.    decremental_agent.py          \tscore:259.0,     \tw|d|l: 12, 34, 8    \n",
            "losed to:{'multy_tactic_analyse_2.py', 'counter_statistic.py', 'copy_opponent', 'counter_reactionary'}.\n",
            "\n",
            "11.    counter_statistic.py          \tscore:5.0,     \tw|d|l: 11, 33, 10    \n",
            "losed to:{'counter_reactionary', 'multy_tactic_analyse_2.py', 'copy_opponent', 'decremental_agent.py'}.\n",
            "\n",
            "12.    incremental_agent.py          \tscore:485.0,     \tw|d|l: 10, 40, 4    \n",
            "losed to:{'multy_tactic_analyse_2.py', 'incremental_plusplus.py'}.\n",
            "\n",
            "13.    wrong_order_3.py              \tscore:357.0,     \tw|d|l: 9, 39, 6    \n",
            "losed to:{'multy_tactic_analyse_2.py', 'copy_opponent'}.\n",
            "\n",
            "14.    wrong_order_1.py              \tscore:156.0,     \tw|d|l: 9, 36, 9    \n",
            "losed to:{'scissors', 'statistical', 'anti_boss.py'}.\n",
            "\n",
            "15.    paper                         \tscore:-1191.0,     \tw|d|l: 9, 24, 21    \n",
            "losed to:{'reactionary', 'scissors', 'multy_tactic_analyse_2.py', 'counter_reactionary', 'statistical', 'multy_tactic_analyse.py', 'incremental_plusplus.py'}.\n",
            "\n",
            "16.    scissors                      \tscore:-1277.0,     \tw|d|l: 9, 23, 22    \n",
            "losed to:{'rock', 'reactionary', 'multy_tactic_analyse_2.py', 'counter_reactionary', 'incremental_plusplus.py', 'statistical', 'multy_tactic_analyse.py', 'counter_statistic_plus.py'}.\n",
            "\n",
            "17.    rock                         \tscore:-1614.0,     \tw|d|l: 6, 21, 27    \n",
            "losed to:{'reactionary', 'multy_tactic_analyse_2.py', 'counter_reactionary', 'wrong_order_1.py', 'incremental_plusplus.py', 'paper', 'statistical', 'multy_tactic_analyse.py', 'counter_statistic_plus.py'}.\n",
            "\n",
            "18.    wrong_order_2.py              \tscore:-618.0,     \tw|d|l: 3, 27, 24    \n",
            "losed to:{'incremental_agent.py', 'reactionary', 'multy_tactic_analyse_2.py', 'counter_reactionary', 'paper', 'statistical', 'decremental_agent.py', 'multy_tactic_analyse.py', 'incremental_plusplus.py', 'anti_boss.py'}.\n",
            "\n",
            "19.    random_agent.py               \tscore:0,     \tw|d|l: 0, 54, 0    \n",
            "losed to:set().\n",
            "\n"
          ]
        }
      ],
      "source": [
        "ATTEMTS_COUNT = 100\n",
        "BATTLES = 3\n",
        "\n",
        "#reset all result values\n",
        "for i in reward_dict.values(): i.reset()\n",
        "\n",
        "#battles\n",
        "for i in range(len(agent_names)):\n",
        "  for j in range(i+1, len(agent_names)):\n",
        "    agent_A = reward_dict[agent_names[i]]\n",
        "    agent_B = reward_dict[agent_names[j]]\n",
        "\n",
        "    battles = evaluate(\n",
        "      \"rps\", \n",
        "      [agent_A.name, agent_B.name], \n",
        "      configuration={\"episodeSteps\": ATTEMTS_COUNT},\n",
        "      num_episodes = BATTLES\n",
        "    )\n",
        "\n",
        "    for battle in battles:\n",
        "      agent_A.score += battle[0]\n",
        "      agent_B.score += battle[1]\n",
        "\n",
        "      if battle[0] > 0 :\n",
        "        agent_A.wins += 1\n",
        "        agent_B.stronger_oppenents.add(agent_A.name)\n",
        "      elif battle[1] > 0 :\n",
        "        agent_B.wins += 1\n",
        "        agent_A.stronger_oppenents.add(agent_B.name)\n",
        "      else:\n",
        "        agent_A.draws += 1\n",
        "        agent_B.draws += 1\n",
        "\n",
        "      agent_A.plays += 1\n",
        "      agent_B.plays += 1\n",
        "\n",
        "reward_list.sort(key = lambda e: (e.wins, e.score), reverse = True)\n",
        "for i,item in enumerate(reward_list): \n",
        "  print(i+1,item.to_string(),\"\", sep= \".\")"
      ]
    }
  ],
  "metadata": {
    "colab": {
      "collapsed_sections": [
        "sh_jPTQNjE8q",
        "_w2Nj_zMFn5s",
        "2QJVOROiiQKc",
        "HNknLte1VmLx"
      ],
      "provenance": [],
      "include_colab_link": true
    },
    "kernelspec": {
      "display_name": "Python 3",
      "name": "python3"
    },
    "language_info": {
      "name": "python"
    }
  },
  "nbformat": 4,
  "nbformat_minor": 0
}