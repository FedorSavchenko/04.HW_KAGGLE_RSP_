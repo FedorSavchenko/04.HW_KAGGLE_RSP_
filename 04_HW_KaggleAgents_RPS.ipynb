{
  "cells": [
    {
      "cell_type": "markdown",
      "metadata": {
        "id": "view-in-github",
        "colab_type": "text"
      },
      "source": [
        "<a href=\"https://colab.research.google.com/github/FedorSavchenko/04.HW_KAGGLE_RSP_/blob/main/04_HW_KaggleAgents_RPS.ipynb\" target=\"_parent\"><img src=\"https://colab.research.google.com/assets/colab-badge.svg\" alt=\"Open In Colab\"/></a>"
      ]
    },
    {
      "cell_type": "code",
      "execution_count": null,
      "metadata": {
        "colab": {
          "base_uri": "https://localhost:8080/"
        },
        "id": "MXXTuy_o0sjk",
        "outputId": "0df201cb-4ecb-407c-8140-ee59b738e149"
      },
      "outputs": [
        {
          "name": "stdout",
          "output_type": "stream",
          "text": [
            "\u001b[K     |████████████████████████████████| 1.9 MB 34.5 MB/s \n",
            "\u001b[K     |████████████████████████████████| 62 kB 1.7 MB/s \n",
            "\u001b[?25h"
          ]
        }
      ],
      "source": [
        "!pip install -q -U kaggle_environments"
      ]
    },
    {
      "cell_type": "code",
      "execution_count": null,
      "metadata": {
        "id": "yz23vWHD0wcj"
      },
      "outputs": [],
      "source": [
        "import numpy as np\n",
        "import pandas as pd\n",
        "\n",
        "import matplotlib.pyplot as plt\n",
        "import seaborn as sns\n",
        "\n",
        "from kaggle_environments import make, evaluate"
      ]
    },
    {
      "cell_type": "markdown",
      "metadata": {
        "id": "sh_jPTQNjE8q"
      },
      "source": [
        "#Bot01-incremental\n",
        "примитивный агент который циклично выдает значения "
      ]
    },
    {
      "cell_type": "code",
      "execution_count": 530,
      "metadata": {
        "id": "oBS-MSJIp5cG"
      },
      "outputs": [],
      "source": [
        "%%writefile incremental_agent.py\n",
        "import random\n",
        "incr_state = 0\n",
        "def agent(observation, configuration):\n",
        "  global incr_state\n",
        "  if observation.step == 0:\n",
        "    incr_state = random.randrange(0, configuration.signs) \n",
        "  incr_state += 1\n",
        "  return incr_state % configuration.signs"
      ]
    },
    {
      "cell_type": "markdown",
      "metadata": {
        "id": "_w2Nj_zMFn5s"
      },
      "source": [
        "#Bot02-Decremental\n",
        "Bot01 не получил ни одного поражения, хотя побед не много, но занимает увернное 4е место в турнироной таблице. Проверим реверсивный порядок цикла."
      ]
    },
    {
      "cell_type": "code",
      "execution_count": 529,
      "metadata": {
        "colab": {
          "base_uri": "https://localhost:8080/"
        },
        "id": "MRSjLjyqGr9J",
        "outputId": "29fdb88e-8cab-4384-a8ef-2309cfd172db"
      },
      "outputs": [
        {
          "output_type": "stream",
          "name": "stdout",
          "text": [
            "Overwriting decremental_agent.py\n"
          ]
        }
      ],
      "source": [
        "%%writefile decremental_agent.py\n",
        "import random\n",
        "incr_state = 0\n",
        "def agent(observation, configuration):\n",
        "  global incr_state\n",
        "  if observation.step == 0:\n",
        "    incr_state = random.randrange(0, configuration.signs) \n",
        "  incr_state += 2\n",
        "  return incr_state % configuration.signs"
      ]
    },
    {
      "cell_type": "markdown",
      "metadata": {
        "id": "2QJVOROiiQKc"
      },
      "source": [
        "#Bot03-incremental++\n",
        "турнирная таблица показала что\n",
        "\n",
        "А) У Bot01 нет ни одного пораженя но побеждает он только одного агента - copy_opponent\n",
        "\n",
        "B) У Bot02 побед больше он побеждает агента reactionary, который в топе таблицы, но проигрывает агненту copy_opponent,  так же с агентом counter_reactionary в споре,где влияет случайность первого хода\n",
        "\n",
        "Попытаемся улучшить агента Bot01, при этом оставить его без поражения, добавив побед над stone, rock, scissors\n",
        "\n"
      ]
    },
    {
      "cell_type": "code",
      "execution_count": 526,
      "metadata": {
        "colab": {
          "base_uri": "https://localhost:8080/"
        },
        "id": "HOSGo3kXiK5I",
        "outputId": "4ad0ec45-5896-40d4-e0f6-d2f6893d251f"
      },
      "outputs": [
        {
          "output_type": "stream",
          "name": "stdout",
          "text": [
            "Overwriting incremental_plusplus_agent.py\n"
          ]
        }
      ],
      "source": [
        "%%writefile incremental_plusplus_agent.py\n",
        "import random\n",
        "\n",
        "TESTING_STEPS = 10\n",
        "incr_state = 0\n",
        "opponent_histogram = None\n",
        "\n",
        "def agent(observation, configuration):\n",
        "  \n",
        "  global incr_state\n",
        "  global opponent_histogram\n",
        "  if(opponent_histogram is None):\n",
        "    opponent_histogram = [0]*configuration.signs\n",
        "  \n",
        "  if observation.step == 0:\n",
        "    #first turn\n",
        "    incr_state = random.randrange(0, configuration.signs) \n",
        "    result = incr_state\n",
        "  elif observation.step < TESTING_STEPS or max(opponent_histogram) != observation.step-1:\n",
        "    #researching or first TESTING_STEPS were't same turn value and use incremental tactic\n",
        "    incr_state += 1\n",
        "    result = incr_state % configuration.signs\n",
        "  else:\n",
        "    # scissors, rock paper bots\n",
        "    opponent_turns = opponent_histogram.index(max(opponent_histogram))\n",
        "    result = (opponent_turns + 1) % configuration.signs\n",
        "  if observation.step > 0:\n",
        "    opponent_action = observation.lastOpponentAction\n",
        "    opponent_histogram[opponent_action] += 1\n",
        "\n",
        "  return result"
      ]
    },
    {
      "cell_type": "markdown",
      "source": [
        "\n",
        "#Bot04-counter_statistical\n",
        "Bot03 - с легкостью победив 3х ботов с константой выдачей, попадает на первое место по количеству очков и на второе место по количеству побед.:D Нужно создать несколько тактик против других ботов.\n",
        "Для этого сделаем бота-противника для statistical"
      ],
      "metadata": {
        "id": "vs1u_9fK2Dob"
      }
    },
    {
      "cell_type": "code",
      "source": [
        "%%writefile counter_statistic.py\n",
        "import random\n",
        "\n",
        "TESTING_STEPS = 3\n",
        "awaiting_statistic_turn = 0\n",
        "my_histogram = None\n",
        "\n",
        "def agent(observation, configuration):\n",
        "  global awaiting_statistic_turn\n",
        "  global my_histogram\n",
        "\n",
        "  if(my_histogram is None):\n",
        "    my_histogram = [0]*configuration.signs\n",
        "\n",
        "  if observation.step == 0:\n",
        "    result = random.randrange(0, configuration.signs) \n",
        "  else:\n",
        "    result = (awaiting_statistic_turn + 1) % configuration.signs\n",
        "\n",
        "  my_histogram[result] += 1\n",
        "  awaiting_statistic_turn = (my_histogram.index(max(my_histogram)) + 1) % configuration.signs\n",
        "\n",
        "  return result"
      ],
      "metadata": {
        "colab": {
          "base_uri": "https://localhost:8080/"
        },
        "id": "oyRgWALr4S7C",
        "outputId": "4ac6a15a-0bed-487f-f39e-79d0cfd1f188"
      },
      "execution_count": 507,
      "outputs": [
        {
          "output_type": "stream",
          "name": "stdout",
          "text": [
            "Writing counter_statistic.py\n"
          ]
        }
      ]
    },
    {
      "cell_type": "code",
      "source": [
        "evaluate(\n",
        "      \"rps\", \n",
        "      [\"counter_statistic_agent.py\", \"statistical\"], \n",
        "      configuration={\"episodeSteps\": 100},\n",
        "      num_episodes = 10\n",
        "    )\n"
      ],
      "metadata": {
        "colab": {
          "base_uri": "https://localhost:8080/"
        },
        "id": "wy6KNmGoOrko",
        "outputId": "20710e6d-5c02-4c2e-d66f-00e8572d6a2f"
      },
      "execution_count": 431,
      "outputs": [
        {
          "output_type": "execute_result",
          "data": {
            "text/plain": [
              "[[66.0, -66.0],\n",
              " [66.0, -66.0],\n",
              " [0, 0],\n",
              " [66.0, -66.0],\n",
              " [0, 0],\n",
              " [66.0, -66.0],\n",
              " [66.0, -66.0],\n",
              " [66.0, -66.0],\n",
              " [66.0, -66.0],\n",
              " [66.0, -66.0]]"
            ]
          },
          "metadata": {},
          "execution_count": 431
        }
      ]
    },
    {
      "cell_type": "markdown",
      "source": [
        "\n",
        "#Bot05-counter_statistic+\n",
        "Bot04 - С вероятностью 66% побеждает statistical, как побочный эффект побеждает reactional and counter_reactional, но при этом проигрывает боту copy_opponent. Улучшим его и поставим защиту от copy opponent"
      ],
      "metadata": {
        "id": "HNknLte1VmLx"
      }
    },
    {
      "cell_type": "code",
      "source": [
        "%%writefile counter_statistic_plus.py\n",
        "import random\n",
        "\n",
        "TESTING_STEPS = 10\n",
        "\n",
        "opponent_tactics = {\n",
        "    \"statistic\":0,\n",
        "    \"copy\":0,\n",
        "    \"defence\":0\n",
        "}\n",
        "\n",
        "awaiting_statistic_turn = 0\n",
        "awaiting_defence_turn = 0\n",
        "awaiting_copy_turn = 0\n",
        "\n",
        "incr_state = 0\n",
        "my_histogram = None\n",
        "\n",
        "def agent(observation, configuration):\n",
        "  global incr_state\n",
        "  global awaiting_statistic_turn\n",
        "  global awaiting_defence_turn\n",
        "  global awaiting_copy_turn\n",
        "  global my_histogram\n",
        "  global opponent_tactics\n",
        "  \n",
        "  result = 0 \n",
        "  if(my_histogram is None):\n",
        "    my_histogram = [0]*configuration.signs\n",
        "  \n",
        "  #first turn\n",
        "  if observation.step == 0:\n",
        "    incr_state = random.randrange(0, configuration.signs - 1) \n",
        "    result = incr_state\n",
        "  \n",
        "  #collecting statistic\n",
        "  elif observation.step < TESTING_STEPS:\n",
        "    incr_state += 1\n",
        "    result = incr_state % configuration.signs\n",
        "  else:\n",
        "    predicted_tactic = max(opponent_tactics.items(), key = lambda e:e[1])[0]\n",
        "    \n",
        "    if predicted_tactic == \"statistic\":\n",
        "      result = (awaiting_statistic_turn + 1) % configuration.signs\n",
        "    \n",
        "    elif predicted_tactic == \"copy\":\n",
        "      result = awaiting_statistic_turn % configuration.signs\n",
        "    \n",
        "    elif predicted_tactic == \"defence\":\n",
        "      result = (awaiting_statistic_turn + 2) % configuration.signs\n",
        "\n",
        "  #calc opponent tactic stat\n",
        "  if(observation.step > 0):\n",
        "    opponent_action = observation.lastOpponentAction\n",
        "    if(opponent_action == awaiting_statistic_turn):\n",
        "      opponent_tactics[\"statistic\"] += 1\n",
        "  \n",
        "    if(opponent_action == awaiting_defence_turn):\n",
        "      opponent_tactics[\"defence\"] += 1\n",
        "\n",
        "    if(opponent_action == awaiting_copy_turn):\n",
        "      opponent_tactics[\"copy\"] += 1\n",
        "  \n",
        "\n",
        "  #calc my stat\n",
        "  my_histogram[result] += 1\n",
        "  my_hist_maxsign = my_histogram.index(max(my_histogram))\n",
        "  awaiting_statistic_turn = (my_hist_maxsign + 1) % configuration.signs\n",
        "  awaiting_defence_turn = (my_hist_maxsign + 2) % configuration.signs\n",
        "  awaiting_copy_turn = my_hist_maxsign  % configuration.signs\n",
        "\n",
        "  return result"
      ],
      "metadata": {
        "colab": {
          "base_uri": "https://localhost:8080/"
        },
        "id": "cxYPMO-SXGcD",
        "outputId": "ac103537-d5f0-4a48-c08d-1342542020e0"
      },
      "execution_count": 531,
      "outputs": [
        {
          "output_type": "stream",
          "name": "stdout",
          "text": [
            "Overwriting counter_statistic_plus.py\n"
          ]
        }
      ]
    },
    {
      "cell_type": "code",
      "execution_count": 493,
      "metadata": {
        "colab": {
          "base_uri": "https://localhost:8080/"
        },
        "id": "tj1do0r1pA9b",
        "outputId": "9ab89a40-0a87-4d24-d330-55cfeeec3020"
      },
      "outputs": [
        {
          "output_type": "execute_result",
          "data": {
            "text/plain": [
              "[[51.0, -51.0],\n",
              " [47.0, -47.0],\n",
              " [53.0, -53.0],\n",
              " [53.0, -53.0],\n",
              " [49.0, -49.0],\n",
              " [53.0, -53.0],\n",
              " [53.0, -53.0],\n",
              " [47.0, -47.0],\n",
              " [48.0, -48.0],\n",
              " [47.0, -47.0]]"
            ]
          },
          "metadata": {},
          "execution_count": 493
        }
      ],
      "source": [
        "evaluate(\n",
        "      \"rps\", \n",
        "      #[\"incremental_Alpha.py\", \"statistical\"], \n",
        "      [\"counter_statistic_plusplus.py\", \"copy_opponent\"], \n",
        "      configuration={\"episodeSteps\": 100},\n",
        "      num_episodes = 10\n",
        "    )\n"
      ]
    },
    {
      "cell_type": "markdown",
      "source": [
        "#Bot06-MultyTacticAnalyse\n",
        "Bot05 - Справляется с ботами copy_opponent и statistical. Добавим логику Bot03,чтоб стравлялся с константными."
      ],
      "metadata": {
        "id": "XiEg4EtZsqq6"
      }
    },
    {
      "cell_type": "code",
      "source": [
        "%%writefile multy_tactic_analyse.py\n",
        "import random\n",
        "\n",
        "TESTING_STEPS = 10\n",
        "\n",
        "opponent_tactics = {\n",
        "    \"statistic\":0,\n",
        "    \"copy\":0,\n",
        "    \"defence\":0,\n",
        "    \"repeat\":0,\n",
        "}\n",
        "\n",
        "awaiting_statistic_turn = 0\n",
        "awaiting_defence_turn = 0\n",
        "awaiting_copy_turn = 0\n",
        "\n",
        "incr_state = 0\n",
        "my_histogram = None\n",
        "\n",
        "opponent_old_action = 0\n",
        "\n",
        "def agent(observation, configuration):\n",
        "  global incr_state\n",
        "  global awaiting_statistic_turn\n",
        "  global awaiting_defence_turn\n",
        "  global awaiting_copy_turn\n",
        "  global my_histogram\n",
        "  global opponent_tactics\n",
        "  global opponent_old_action\n",
        "  \n",
        "  result = 0 \n",
        "  if(my_histogram is None):\n",
        "    my_histogram = [0]*configuration.signs\n",
        "  \n",
        "  #first turn\n",
        "  if observation.step == 0:\n",
        "    incr_state = random.randrange(0, configuration.signs - 1) \n",
        "    result = incr_state\n",
        "  \n",
        "  #collecting statistic\n",
        "  elif observation.step < TESTING_STEPS:\n",
        "    incr_state += 1\n",
        "    result = incr_state % configuration.signs\n",
        "  else:\n",
        "    predicted_tactic = max(opponent_tactics.items(), key = lambda e:e[1])[0]\n",
        "    \n",
        "    if predicted_tactic == \"statistic\":\n",
        "      result = (awaiting_statistic_turn + 1) % configuration.signs\n",
        "    \n",
        "    elif predicted_tactic == \"copy\":\n",
        "      result = awaiting_statistic_turn % configuration.signs\n",
        "    \n",
        "    elif predicted_tactic == \"defence\":\n",
        "      result = (awaiting_statistic_turn + 2) % configuration.signs\n",
        "\n",
        "    elif predicted_tactic == \"repeat\":\n",
        "      result = (opponent_old_action + 1) % configuration.signs\n",
        "\n",
        "\n",
        "  #calc opponent tactic stat\n",
        "  if(observation.step > 0):\n",
        "    opponent_action = observation.lastOpponentAction\n",
        "    if(opponent_action == opponent_old_action):\n",
        "      opponent_tactics[\"repeat\"] += 1\n",
        "\n",
        "    if(opponent_action == awaiting_statistic_turn):\n",
        "      opponent_tactics[\"statistic\"] += 1\n",
        "  \n",
        "    if(opponent_action == awaiting_defence_turn):\n",
        "      opponent_tactics[\"defence\"] += 1\n",
        "\n",
        "    if(opponent_action == awaiting_copy_turn):\n",
        "      opponent_tactics[\"copy\"] += 1\n",
        "\n",
        "    opponent_old_action = opponent_action\n",
        "  \n",
        "\n",
        "  #calc my stat\n",
        "  my_histogram[result] += 1\n",
        "  my_hist_maxsign = my_histogram.index(max(my_histogram))\n",
        "  awaiting_statistic_turn = (my_hist_maxsign + 1) % configuration.signs\n",
        "  awaiting_defence_turn = (my_hist_maxsign + 2) % configuration.signs\n",
        "  awaiting_copy_turn = my_hist_maxsign  % configuration.signs\n",
        "\n",
        "  return result"
      ],
      "metadata": {
        "colab": {
          "base_uri": "https://localhost:8080/"
        },
        "id": "WCGOTtjSsp-n",
        "outputId": "e5ea99c0-2702-4662-e532-0d16aa6ae7a4"
      },
      "execution_count": 532,
      "outputs": [
        {
          "output_type": "stream",
          "name": "stdout",
          "text": [
            "Overwriting multy_tactic_analyse.py\n"
          ]
        }
      ]
    },
    {
      "cell_type": "markdown",
      "source": [
        "#Bot07-MultyTacticAnalyse_2\n",
        "Bot06 - Бесспорный лидер, по очкам, победам, при этом нет ни одного поражения. Добавим логику чтоб справлялся с Incremenal и Decremental "
      ],
      "metadata": {
        "id": "D5UYg4GZwgmQ"
      }
    },
    {
      "cell_type": "code",
      "source": [
        "%%writefile multy_tactic_analyse_2.py\n",
        "import random\n",
        "\n",
        "TESTING_STEPS = 10\n",
        "\n",
        "opponent_tactics = {\n",
        "    \"statistic\":0,\n",
        "    \"copy\":0,\n",
        "    \"defence\":0,\n",
        "    \"repeat\":0,\n",
        "    \"increment\":0,\n",
        "    \"decrement\":0,\n",
        "}\n",
        "\n",
        "awaiting_statistic_turn = 0\n",
        "awaiting_defence_turn = 0\n",
        "awaiting_copy_turn = 0\n",
        "\n",
        "incr_state = 0\n",
        "my_histogram = None\n",
        "\n",
        "opponent_old_action = 0\n",
        "\n",
        "def agent(observation, configuration):\n",
        "  global incr_state\n",
        "  global awaiting_statistic_turn\n",
        "  global awaiting_defence_turn\n",
        "  global awaiting_copy_turn\n",
        "  global my_histogram\n",
        "  global opponent_tactics\n",
        "  global opponent_old_action\n",
        "  \n",
        "  result = 0 \n",
        "  if(my_histogram is None):\n",
        "    my_histogram = [0] * configuration.signs\n",
        "  \n",
        "  #first turn\n",
        "  if observation.step == 0:\n",
        "    incr_state = random.randrange(0, configuration.signs - 1) \n",
        "    result = incr_state\n",
        "  \n",
        "  #till collecting statistic\n",
        "  elif observation.step < TESTING_STEPS:\n",
        "    incr_state += 1\n",
        "    result = incr_state % configuration.signs\n",
        "  else:\n",
        "    predicted_tactic = max(opponent_tactics.items(), key = lambda e:e[1])[0]\n",
        "    \n",
        "    if predicted_tactic == \"statistic\":\n",
        "      result = (awaiting_statistic_turn + 1) % configuration.signs\n",
        "    \n",
        "    elif predicted_tactic == \"copy\":\n",
        "      result = awaiting_statistic_turn % configuration.signs\n",
        "    \n",
        "    elif predicted_tactic == \"defence\":\n",
        "      result = (awaiting_statistic_turn + 2) % configuration.signs\n",
        "\n",
        "    elif predicted_tactic == \"repeat\":\n",
        "      result = (opponent_old_action + 1) % configuration.signs\n",
        "\n",
        "    elif predicted_tactic == \"increment\":\n",
        "      result = opponent_old_action % configuration.signs\n",
        "    \n",
        "    elif predicted_tactic == \"decrement\":\n",
        "      result = (opponent_old_action + 2) % configuration.signs\n",
        "\n",
        "  #calc opponent tactic stat\n",
        "  if observation.step > 0 :\n",
        "    opponent_action = observation.lastOpponentAction\n",
        "    if opponent_action == opponent_old_action :\n",
        "      opponent_tactics[\"repeat\"] += 1\n",
        "    \n",
        "    if opponent_action == (opponent_old_action + 1) % configuration.signs:\n",
        "      opponent_tactics[\"increment\"] += 1\n",
        "\n",
        "    if opponent_action == (opponent_old_action + 2) % configuration.signs:\n",
        "      opponent_tactics[\"decrement\"] += 1\n",
        "\n",
        "    if opponent_action == awaiting_statistic_turn:\n",
        "      opponent_tactics[\"statistic\"] += 1\n",
        "  \n",
        "    if(opponent_action == awaiting_defence_turn):\n",
        "      opponent_tactics[\"defence\"] += 1\n",
        "\n",
        "    if(opponent_action == awaiting_copy_turn):\n",
        "      opponent_tactics[\"copy\"] += 1\n",
        "\n",
        "    opponent_old_action = opponent_action\n",
        "  \n",
        "\n",
        "  #calc my stat\n",
        "  my_histogram[result] += 1\n",
        "  my_hist_maxsign = my_histogram.index(max(my_histogram))\n",
        "  awaiting_statistic_turn = (my_hist_maxsign + 1) % configuration.signs\n",
        "  awaiting_defence_turn = (my_hist_maxsign + 2) % configuration.signs\n",
        "  awaiting_copy_turn = my_hist_maxsign  % configuration.signs\n",
        "\n",
        "  return result"
      ],
      "metadata": {
        "colab": {
          "base_uri": "https://localhost:8080/"
        },
        "id": "HXEEu7aIwhu1",
        "outputId": "b5f2ce64-e341-40e9-eedd-4e802914b860"
      },
      "execution_count": 533,
      "outputs": [
        {
          "output_type": "stream",
          "name": "stdout",
          "text": [
            "Overwriting multy_tactic_analyse_2.py\n"
          ]
        }
      ]
    },
    {
      "cell_type": "code",
      "source": [
        "evaluate(\n",
        "      \"rps\", \n",
        "      #[\"incremental_Alpha.py\", \"statistical\"], \n",
        "      [\"multy_tactic_analyse_2.py\", \"decremental_agent.py\"], \n",
        "      configuration={\"episodeSteps\": 100},\n",
        "      num_episodes = 10\n",
        "    )"
      ],
      "metadata": {
        "colab": {
          "base_uri": "https://localhost:8080/"
        },
        "id": "b1heNEYXu_eq",
        "outputId": "d7e4b1c3-3246-4714-c4c8-33292d6a4562"
      },
      "execution_count": 521,
      "outputs": [
        {
          "output_type": "execute_result",
          "data": {
            "text/plain": [
              "[[90.0, -90.0],\n",
              " [89.0, -89.0],\n",
              " [90.0, -90.0],\n",
              " [89.0, -89.0],\n",
              " [89.0, -89.0],\n",
              " [89.0, -89.0],\n",
              " [88.0, -88.0],\n",
              " [88.0, -88.0],\n",
              " [90.0, -90.0],\n",
              " [89.0, -89.0]]"
            ]
          },
          "metadata": {},
          "execution_count": 521
        }
      ]
    },
    {
      "cell_type": "markdown",
      "source": [
        "\n",
        "#Bot08-testBot_Random\n",
        "Bot07 - Превзошел все ожидания одержав 29 побед из 33, где 2 ничьи и 2 поражения своим младшим братьям. Но теперь нужно проверить настолько ли он хорош на самом деле. Создадим ему разных оппоненов. Куда же нам без рандом бота)"
      ],
      "metadata": {
        "id": "baGDMoYL5ZaY"
      }
    },
    {
      "cell_type": "code",
      "source": [
        "%%writefile random_agent.py\n",
        "import random\n",
        "def agent(observation, configuration):\n",
        "  return random.randrange(0, configuration.signs) "
      ],
      "metadata": {
        "colab": {
          "base_uri": "https://localhost:8080/"
        },
        "id": "Fj9UVB-s5W9m",
        "outputId": "5d06c3a6-f3f2-4c5d-97eb-349819070541"
      },
      "execution_count": 534,
      "outputs": [
        {
          "output_type": "stream",
          "name": "stdout",
          "text": [
            "Writing random_agent.py\n"
          ]
        }
      ]
    },
    {
      "cell_type": "markdown",
      "source": [
        "#Bot09-testBot_WrongOrder_1\n",
        "к самому сильному боту Bot07, создаем различные тесты.\n",
        "\n",
        "0,1,2,1,0,1,2,1,0..."
      ],
      "metadata": {
        "id": "Ooe_04jL5Vb7"
      }
    },
    {
      "cell_type": "code",
      "source": [
        "%%writefile wrong_order_1.py\n",
        "increment = 0\n",
        "order = [0,1,2,1]\n",
        "def agent(observation, configuration):\n",
        "  global increment\n",
        "  increment += 1\n",
        "  return order[increment % len(order)]"
      ],
      "metadata": {
        "colab": {
          "base_uri": "https://localhost:8080/"
        },
        "id": "Szv21xij8NRL",
        "outputId": "4bce03af-f3bb-4928-87ec-8ae66be01704"
      },
      "execution_count": 537,
      "outputs": [
        {
          "output_type": "stream",
          "name": "stdout",
          "text": [
            "Writing wrong_order_1.py\n"
          ]
        }
      ]
    },
    {
      "cell_type": "markdown",
      "source": [
        "#Bot10-testBot_WrongOrder_2\n",
        "к самому сильному боту Bot07, создаем различные тесты.\n",
        "\n",
        "0,0,0,0,1,1,1,2,2"
      ],
      "metadata": {
        "id": "iwYVGxng-JUq"
      }
    },
    {
      "cell_type": "code",
      "source": [
        "%%writefile wrong_order_2.py\n",
        "increment = 0\n",
        "order = [0,0,0,0,1,1,1,2,2]\n",
        "def agent(observation, configuration):\n",
        "  global increment\n",
        "  increment += 1\n",
        "  return order[increment % len(order)]"
      ],
      "metadata": {
        "colab": {
          "base_uri": "https://localhost:8080/"
        },
        "id": "-tCAWvtd-HXr",
        "outputId": "968ceb39-097a-441e-ec6e-147e2b8deb8b"
      },
      "execution_count": 540,
      "outputs": [
        {
          "output_type": "stream",
          "name": "stdout",
          "text": [
            "Writing wrong_order_2.py\n"
          ]
        }
      ]
    },
    {
      "cell_type": "markdown",
      "source": [
        "#Bot11-testBot_WrongOrder_3\n",
        "к самому сильному боту Bot07, создаем различные тесты.\n",
        "\n",
        "0,2,1,0,1,0,2,1"
      ],
      "metadata": {
        "id": "Vuk_zxvMBj-i"
      }
    },
    {
      "cell_type": "code",
      "source": [
        "%%writefile wrong_order_3.py\n",
        "increment = 0\n",
        "order = [0,2,1,0,1,0,2,1]\n",
        "def agent(observation, configuration):\n",
        "  global increment\n",
        "  increment += 1\n",
        "  return order[increment % len(order)]"
      ],
      "metadata": {
        "colab": {
          "base_uri": "https://localhost:8080/"
        },
        "id": "VNx0A0FJB2i8",
        "outputId": "d03897b1-b925-4fa2-d7c5-39948c5b44af"
      },
      "execution_count": 546,
      "outputs": [
        {
          "output_type": "stream",
          "name": "stdout",
          "text": [
            "Writing wrong_order_3.py\n"
          ]
        }
      ]
    },
    {
      "cell_type": "markdown",
      "source": [
        "#Bot12-AntiBoss \n",
        "попробуем сделать противника для Bot07, добавив к результату в конце 1, чтоб вернуть выигрышную коибинацию\n"
      ],
      "metadata": {
        "id": "XaWlQ_ODDbvU"
      }
    },
    {
      "cell_type": "code",
      "source": [
        "%%writefile anti_boss.py\n",
        "import random\n",
        "\n",
        "TESTING_STEPS = 10\n",
        "\n",
        "opponent_tactics = {\n",
        "    \"statistic\":0,\n",
        "    \"copy\":0,\n",
        "    \"defence\":0,\n",
        "    \"repeat\":0,\n",
        "    \"increment\":0,\n",
        "    \"decrement\":0,\n",
        "}\n",
        "\n",
        "awaiting_statistic_turn = 0\n",
        "awaiting_defence_turn = 0\n",
        "awaiting_copy_turn = 0\n",
        "\n",
        "incr_state = 0\n",
        "my_histogram = None\n",
        "\n",
        "opponent_old_action = 0\n",
        "\n",
        "def agent(observation, configuration):\n",
        "  global incr_state\n",
        "  global awaiting_statistic_turn\n",
        "  global awaiting_defence_turn\n",
        "  global awaiting_copy_turn\n",
        "  global my_histogram\n",
        "  global opponent_tactics\n",
        "  global opponent_old_action\n",
        "  \n",
        "  result = 0 \n",
        "  if(my_histogram is None):\n",
        "    my_histogram = [0] * configuration.signs\n",
        "  \n",
        "  #first turn\n",
        "  if observation.step == 0:\n",
        "    incr_state = 0#random.randrange(0, configuration.signs - 1) \n",
        "    result = incr_state\n",
        "  \n",
        "  #till collecting statistic\n",
        "  elif observation.step < TESTING_STEPS:\n",
        "    incr_state += 1\n",
        "    result = incr_state % configuration.signs\n",
        "  else:\n",
        "    predicted_tactic = max(opponent_tactics.items(), key = lambda e:e[1])[0]\n",
        "    \n",
        "    if predicted_tactic == \"statistic\":\n",
        "      result = (awaiting_statistic_turn + 1) % configuration.signs\n",
        "    \n",
        "    elif predicted_tactic == \"copy\":\n",
        "      result = awaiting_statistic_turn % configuration.signs\n",
        "    \n",
        "    elif predicted_tactic == \"defence\":\n",
        "      result = (awaiting_statistic_turn + 2) % configuration.signs\n",
        "\n",
        "    elif predicted_tactic == \"repeat\":\n",
        "      result = (opponent_old_action + 1) % configuration.signs\n",
        "\n",
        "    elif predicted_tactic == \"increment\":\n",
        "      result = opponent_old_action % configuration.signs\n",
        "    \n",
        "    elif predicted_tactic == \"decrement\":\n",
        "      result = (opponent_old_action + 2) % configuration.signs\n",
        "\n",
        "  #calc opponent tactic stat\n",
        "  if observation.step > 0 :\n",
        "    opponent_action = observation.lastOpponentAction\n",
        "    if opponent_action == opponent_old_action :\n",
        "      opponent_tactics[\"repeat\"] += 1\n",
        "    \n",
        "    if opponent_action == (opponent_old_action + 1) % configuration.signs:\n",
        "      opponent_tactics[\"increment\"] += 1\n",
        "\n",
        "    if opponent_action == (opponent_old_action + 2) % configuration.signs:\n",
        "      opponent_tactics[\"decrement\"] += 1\n",
        "\n",
        "    if opponent_action == awaiting_statistic_turn:\n",
        "      opponent_tactics[\"statistic\"] += 1\n",
        "  \n",
        "    if(opponent_action == awaiting_defence_turn):\n",
        "      opponent_tactics[\"defence\"] += 1\n",
        "\n",
        "    if(opponent_action == awaiting_copy_turn):\n",
        "      opponent_tactics[\"copy\"] += 1\n",
        "\n",
        "    opponent_old_action = opponent_action\n",
        "  \n",
        "\n",
        "  #calc my stat\n",
        "  result = (result + 1) % configuration.signs\n",
        "  my_histogram[result] += 1\n",
        "  my_hist_maxsign = my_histogram.index(max(my_histogram))\n",
        "  awaiting_statistic_turn = (my_hist_maxsign + 1) % configuration.signs\n",
        "  awaiting_defence_turn = (my_hist_maxsign + 2) % configuration.signs\n",
        "  awaiting_copy_turn = my_hist_maxsign  % configuration.signs\n",
        "\n",
        "  return result"
      ],
      "metadata": {
        "colab": {
          "base_uri": "https://localhost:8080/"
        },
        "id": "ShezORl6D_jc",
        "outputId": "3caddc31-6d5a-4c72-adb0-44f649887106"
      },
      "execution_count": 564,
      "outputs": [
        {
          "output_type": "stream",
          "name": "stdout",
          "text": [
            "Overwriting anti_boss.py\n"
          ]
        }
      ]
    },
    {
      "cell_type": "code",
      "source": [
        "evaluate(\n",
        "      \"rps\", \n",
        "      [\"anti_boss.py\",\"multy_tactic_analyse_2.py\"], \n",
        "      configuration={\"episodeSteps\": 100},\n",
        "      num_episodes = 10\n",
        "    )"
      ],
      "metadata": {
        "colab": {
          "base_uri": "https://localhost:8080/"
        },
        "id": "vUr5eKyVD_FO",
        "outputId": "79dd3e14-7e0c-43cc-db0d-06383cc8ac33"
      },
      "execution_count": 570,
      "outputs": [
        {
          "output_type": "execute_result",
          "data": {
            "text/plain": [
              "[[54.0, -54.0],\n",
              " [0, 0],\n",
              " [0, 0],\n",
              " [0, 0],\n",
              " [54.0, -54.0],\n",
              " [0, 0],\n",
              " [0, 0],\n",
              " [54.0, -54.0],\n",
              " [54.0, -54.0],\n",
              " [54.0, -54.0]]"
            ]
          },
          "metadata": {},
          "execution_count": 570
        }
      ]
    },
    {
      "cell_type": "markdown",
      "metadata": {
        "id": "KAL8Fe_lj2E2"
      },
      "source": [
        "# Регистрация Агентов к турниру"
      ]
    },
    {
      "cell_type": "code",
      "execution_count": 571,
      "metadata": {
        "colab": {
          "base_uri": "https://localhost:8080/"
        },
        "id": "oukzKwuWij_a",
        "outputId": "0b0222b8-09db-42fb-c75a-4c3b58bcd3a3"
      },
      "outputs": [
        {
          "output_type": "stream",
          "name": "stdout",
          "text": [
            "    incremental_plusplus_agen     \tscore:0,     \tw|d|l: 0, 0, 0    \tlosed to:set()\n",
            "    counter_statistic.py          \tscore:0,     \tw|d|l: 0, 0, 0    \tlosed to:set()\n",
            "    counter_statistic_plus.py     \tscore:0,     \tw|d|l: 0, 0, 0    \tlosed to:set()\n",
            "    multy_tactic_analyse.py       \tscore:0,     \tw|d|l: 0, 0, 0    \tlosed to:set()\n",
            "    multy_tactic_analyse_2.py     \tscore:0,     \tw|d|l: 0, 0, 0    \tlosed to:set()\n",
            "    random_agent.py               \tscore:0,     \tw|d|l: 0, 0, 0    \tlosed to:set()\n",
            "    wrong_order_1.py              \tscore:0,     \tw|d|l: 0, 0, 0    \tlosed to:set()\n",
            "    wrong_order_2.py              \tscore:0,     \tw|d|l: 0, 0, 0    \tlosed to:set()\n",
            "    wrong_order_3.py              \tscore:0,     \tw|d|l: 0, 0, 0    \tlosed to:set()\n",
            "    anti_boss.py                  \tscore:0,     \tw|d|l: 0, 0, 0    \tlosed to:set()\n",
            "    rock                         \tscore:0,     \tw|d|l: 0, 0, 0    \tlosed to:set()\n",
            "    paper                         \tscore:0,     \tw|d|l: 0, 0, 0    \tlosed to:set()\n",
            "    scissors                      \tscore:0,     \tw|d|l: 0, 0, 0    \tlosed to:set()\n",
            "    copy_opponent                 \tscore:0,     \tw|d|l: 0, 0, 0    \tlosed to:set()\n",
            "    reactionary                   \tscore:0,     \tw|d|l: 0, 0, 0    \tlosed to:set()\n",
            "    counter_reactionary           \tscore:0,     \tw|d|l: 0, 0, 0    \tlosed to:set()\n",
            "    statistical                   \tscore:0,     \tw|d|l: 0, 0, 0    \tlosed to:set()\n",
            "Agents Ready. Here we go!\n"
          ]
        }
      ],
      "source": [
        "kaggle_agents = [\n",
        "    \"rock\", \n",
        "    \"paper\", \n",
        "    \"scissors\",\n",
        "    \"copy_opponent\",\n",
        "    \"reactionary\",\n",
        "    \"counter_reactionary\",\n",
        "    \"statistical\"\n",
        "]\n",
        "\n",
        "my_agents = [\n",
        "    #\"incremental_agent.py\",\n",
        "    #\"decremental_agent.py\",\n",
        "    \"incremental_plusplus_agent.py\",\n",
        "    \"counter_statistic.py\",\n",
        "    \"counter_statistic_plus.py\",\n",
        "    \"multy_tactic_analyse.py\",\n",
        "    \"multy_tactic_analyse_2.py\",\n",
        "    \"random_agent.py\",\n",
        "    \"wrong_order_1.py\",\n",
        "    \"wrong_order_2.py\",\n",
        "    \"wrong_order_3.py\",\n",
        "    \"anti_boss.py\"\n",
        "]\n",
        "\n",
        "agent_names =  my_agents + kaggle_agents\n",
        "\n",
        "#better to use clsss here but it is out of study scope now\n",
        "def create_agent_result(name):\n",
        "  obj = lambda:None\n",
        "  obj.name = name\n",
        "  def reset():\n",
        "    obj.score = 0\n",
        "    obj.wins = 0\n",
        "    obj.plays = 0\n",
        "    obj.draws = 0\n",
        "    obj.stronger_oppenents = set()  \n",
        "  obj.reset = reset\n",
        "  reset()\n",
        "\n",
        "  obj.to_string = lambda:f\"\\\n",
        "    {(obj.name + ' '*20)[:25]} \\\n",
        "    \\tscore:{obj.score}, \\\n",
        "    \\tw|d|l: {obj.wins}, {obj.draws}, {obj.plays - obj.wins - obj.draws}\\\n",
        "    \\tlosed to:{obj.stronger_oppenents}\"\n",
        "  return obj\n",
        "\n",
        "reward_dict = {}\n",
        "reward_list = [] #for sorting\n",
        "\n",
        "for i in agent_names:\n",
        "  new_agent = create_agent_result(i)\n",
        "  reward_dict[i] = new_agent;\n",
        "  reward_list.append(new_agent)\n",
        "  print(new_agent.to_string())\n",
        "print(\"Agents Ready. Here we go!\")"
      ]
    },
    {
      "cell_type": "markdown",
      "metadata": {
        "id": "QLBZxx8rtQjj"
      },
      "source": [
        "#Турнир"
      ]
    },
    {
      "cell_type": "code",
      "execution_count": 568,
      "metadata": {
        "colab": {
          "base_uri": "https://localhost:8080/"
        },
        "id": "4D6KAi-ui_wk",
        "outputId": "ec65b309-fbd8-413a-a0c3-91e655b39c20"
      },
      "outputs": [
        {
          "output_type": "stream",
          "name": "stdout",
          "text": [
            "1.    multy_tactic_analyse_2.py     \tscore:2189.0,     \tw|d|l: 36, 9, 3    \tlosed to:{'anti_boss.py', 'multy_tactic_analyse.py'}\n",
            "2.    multy_tactic_analyse.py       \tscore:1312.0,     \tw|d|l: 21, 27, 0    \tlosed to:set()\n",
            "3.    reactionary                   \tscore:689.0,     \tw|d|l: 21, 15, 12    \tlosed to:{'counter_statistic.py', 'wrong_order_1.py', 'wrong_order_3.py', 'multy_tactic_analyse_2.py'}\n",
            "4.    statistical                   \tscore:285.0,     \tw|d|l: 21, 9, 18    \tlosed to:{'counter_statistic.py', 'counter_reactionary', 'multy_tactic_analyse_2.py', 'reactionary', 'counter_statistic_plus.py', 'multy_tactic_analyse.py'}\n",
            "5.    counter_reactionary           \tscore:75.0,     \tw|d|l: 18, 15, 15    \tlosed to:{'wrong_order_3.py', 'counter_statistic.py', 'wrong_order_1.py', 'multy_tactic_analyse_2.py', 'anti_boss.py', 'copy_opponent'}\n",
            "6.    incremental_plusplus_agen     \tscore:1080.0,     \tw|d|l: 16, 29, 3    \tlosed to:{'multy_tactic_analyse_2.py'}\n",
            "7.    anti_boss.py                  \tscore:-1699.0,     \tw|d|l: 13, 6, 29    \tlosed to:{'rock', 'wrong_order_3.py', 'statistical', 'scissors', 'counter_statistic.py', 'counter_reactionary', 'reactionary', 'counter_statistic_plus.py', 'paper', 'multy_tactic_analyse.py', 'incremental_plusplus_agent.py'}\n",
            "8.    counter_statistic_plus.py     \tscore:561.0,     \tw|d|l: 12, 33, 3    \tlosed to:{'multy_tactic_analyse_2.py'}\n",
            "9.    counter_statistic.py          \tscore:104.0,     \tw|d|l: 10, 30, 8    \tlosed to:{'counter_reactionary', 'copy_opponent', 'multy_tactic_analyse_2.py'}\n",
            "10.    wrong_order_3.py              \tscore:363.0,     \tw|d|l: 9, 33, 6    \tlosed to:{'copy_opponent', 'multy_tactic_analyse_2.py'}\n",
            "11.    wrong_order_1.py              \tscore:153.0,     \tw|d|l: 9, 30, 9    \tlosed to:{'statistical', 'anti_boss.py', 'scissors'}\n",
            "12.    copy_opponent                 \tscore:-463.0,     \tw|d|l: 9, 15, 24    \tlosed to:{'statistical', 'wrong_order_2.py', 'multy_tactic_analyse_2.py', 'reactionary', 'anti_boss.py', 'counter_statistic_plus.py', 'multy_tactic_analyse.py', 'incremental_plusplus_agent.py'}\n",
            "13.    paper                         \tscore:-1186.0,     \tw|d|l: 9, 18, 21    \tlosed to:{'statistical', 'scissors', 'counter_reactionary', 'multy_tactic_analyse_2.py', 'reactionary', 'multy_tactic_analyse.py', 'incremental_plusplus_agent.py'}\n",
            "14.    scissors                      \tscore:-1456.0,     \tw|d|l: 9, 15, 24    \tlosed to:{'rock', 'statistical', 'counter_reactionary', 'multy_tactic_analyse_2.py', 'reactionary', 'counter_statistic_plus.py', 'multy_tactic_analyse.py', 'incremental_plusplus_agent.py'}\n",
            "15.    rock                         \tscore:-1431.0,     \tw|d|l: 6, 17, 25    \tlosed to:{'statistical', 'wrong_order_1.py', 'counter_reactionary', 'multy_tactic_analyse_2.py', 'reactionary', 'counter_statistic_plus.py', 'paper', 'multy_tactic_analyse.py', 'incremental_plusplus_agent.py'}\n",
            "16.    wrong_order_2.py              \tscore:-596.0,     \tw|d|l: 3, 22, 23    \tlosed to:{'random_agent.py', 'statistical', 'counter_reactionary', 'multy_tactic_analyse_2.py', 'reactionary', 'anti_boss.py', 'paper', 'multy_tactic_analyse.py', 'incremental_plusplus_agent.py'}\n",
            "17.    random_agent.py               \tscore:20.0,     \tw|d|l: 1, 47, 0    \tlosed to:set()\n"
          ]
        }
      ],
      "source": [
        "ATTEMTS_COUNT = 100\n",
        "BATTLES = 3\n",
        "\n",
        "#reset all result values\n",
        "for i in reward_dict.values(): i.reset()\n",
        "\n",
        "#battles\n",
        "for i in range(len(agent_names)):\n",
        "  for j in range(i+1, len(agent_names)):\n",
        "    agent_A = reward_dict[agent_names[i]]\n",
        "    agent_B = reward_dict[agent_names[j]]\n",
        "\n",
        "    battles = evaluate(\n",
        "      \"rps\", \n",
        "      [agent_A.name, agent_B.name], \n",
        "      configuration={\"episodeSteps\": ATTEMTS_COUNT},\n",
        "      num_episodes = BATTLES\n",
        "    )\n",
        "\n",
        "    for battle in battles:\n",
        "      agent_A.score += battle[0]\n",
        "      agent_B.score += battle[1]\n",
        "\n",
        "      if battle[0] > 0 :\n",
        "        agent_A.wins += 1\n",
        "        agent_B.stronger_oppenents.add(agent_A.name)\n",
        "      elif battle[1] > 0 :\n",
        "        agent_B.wins += 1\n",
        "        agent_A.stronger_oppenents.add(agent_B.name)\n",
        "      else:\n",
        "        agent_A.draws += 1\n",
        "        agent_B.draws += 1\n",
        "\n",
        "      agent_A.plays += 1\n",
        "      agent_B.plays += 1\n",
        "\n",
        "reward_list.sort(key = lambda e: (e.wins, e.score), reverse = True)\n",
        "for i,item in enumerate(reward_list): \n",
        "  print(i+1,item.to_string(), sep= \".\")"
      ]
    }
  ],
  "metadata": {
    "colab": {
      "collapsed_sections": [
        "sh_jPTQNjE8q",
        "_w2Nj_zMFn5s",
        "2QJVOROiiQKc",
        "HNknLte1VmLx"
      ],
      "provenance": [],
      "include_colab_link": true
    },
    "kernelspec": {
      "display_name": "Python 3",
      "name": "python3"
    },
    "language_info": {
      "name": "python"
    }
  },
  "nbformat": 4,
  "nbformat_minor": 0
}