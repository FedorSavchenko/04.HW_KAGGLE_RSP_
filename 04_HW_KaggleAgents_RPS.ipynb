{
  "cells": [
    {
      "cell_type": "markdown",
      "metadata": {
        "id": "view-in-github",
        "colab_type": "text"
      },
      "source": [
        "<a href=\"https://colab.research.google.com/github/FedorSavchenko/04.HW_KAGGLE_RSP_/blob/main/04_HW_KaggleAgents_RPS.ipynb\" target=\"_parent\"><img src=\"https://colab.research.google.com/assets/colab-badge.svg\" alt=\"Open In Colab\"/></a>"
      ]
    },
    {
      "cell_type": "code",
      "execution_count": 32,
      "metadata": {
        "id": "MXXTuy_o0sjk"
      },
      "outputs": [],
      "source": [
        "!pip install -q -U kaggle_environments"
      ]
    },
    {
      "cell_type": "code",
      "execution_count": 33,
      "metadata": {
        "id": "yz23vWHD0wcj"
      },
      "outputs": [],
      "source": [
        "import numpy as np\n",
        "import pandas as pd\n",
        "\n",
        "import matplotlib.pyplot as plt\n",
        "import seaborn as sns\n",
        "\n",
        "from kaggle_environments import make, evaluate"
      ]
    },
    {
      "cell_type": "markdown",
      "metadata": {
        "id": "sh_jPTQNjE8q"
      },
      "source": [
        "#Bot01-incremental\n",
        "примитивный агент который циклично выдает значения 0,1,2,0,1,2"
      ]
    },
    {
      "cell_type": "code",
      "execution_count": 34,
      "metadata": {
        "colab": {
          "base_uri": "https://localhost:8080/"
        },
        "id": "oBS-MSJIp5cG",
        "outputId": "79f6280b-0a7c-49d3-d3e2-af1b723b6124"
      },
      "outputs": [
        {
          "output_type": "stream",
          "name": "stdout",
          "text": [
            "Overwriting incremental_agent.py\n"
          ]
        }
      ],
      "source": [
        "%%writefile incremental_agent.py\n",
        "import random\n",
        "\n",
        "incr_state = 0\n",
        "\n",
        "def agent(observation, configuration):\n",
        "  global incr_state\n",
        "\n",
        "  if observation.step == 0:\n",
        "    incr_state = random.randrange(0, configuration.signs) \n",
        "  incr_state += 1\n",
        "  \n",
        "  return incr_state % configuration.signs"
      ]
    },
    {
      "cell_type": "markdown",
      "metadata": {
        "id": "_w2Nj_zMFn5s"
      },
      "source": [
        "#Bot02-Decremental\n",
        "Bot01 не получил ни одного поражения, хотя побед не много, но занимает увернное 4е место в турнироной таблице. Проверим реверсивный порядок цикла. 2, 1, 0, 2, 1, 0"
      ]
    },
    {
      "cell_type": "code",
      "execution_count": 35,
      "metadata": {
        "colab": {
          "base_uri": "https://localhost:8080/"
        },
        "id": "MRSjLjyqGr9J",
        "outputId": "c2c6051a-943b-411f-f879-6741d28c955f"
      },
      "outputs": [
        {
          "output_type": "stream",
          "name": "stdout",
          "text": [
            "Overwriting decremental_agent.py\n"
          ]
        }
      ],
      "source": [
        "%%writefile decremental_agent.py\n",
        "import random\n",
        "\n",
        "incr_state = 0\n",
        "\n",
        "def agent(observation, configuration):\n",
        "  global incr_state\n",
        "  \n",
        "  if observation.step == 0:\n",
        "    incr_state = random.randrange(0, configuration.signs) \n",
        "  incr_state += 2\n",
        "\n",
        "  return incr_state % configuration.signs"
      ]
    },
    {
      "cell_type": "markdown",
      "metadata": {
        "id": "2QJVOROiiQKc"
      },
      "source": [
        "#Bot03-incremental++\n",
        "турнирная таблица показала что\n",
        "\n",
        "А) У Bot01 нет ни одного пораженя, но побеждает он только одного агента - copy_opponent\n",
        "\n",
        "B) У Bot02 побед больше,он побеждает агента reactionary, который в топе таблицы, но проигрывает агненту copy_opponent,  так же с агентом counter_reactionary победы в споре, где влияет случайность первого хода\n",
        "\n",
        "Попытаемся улучшить агента Bot01, при этом оставить его без поражения, добавив побед над stone, rock, scissors\n",
        "\n"
      ]
    },
    {
      "cell_type": "code",
      "execution_count": 36,
      "metadata": {
        "colab": {
          "base_uri": "https://localhost:8080/"
        },
        "id": "HOSGo3kXiK5I",
        "outputId": "a40d8b4d-29c3-4850-eafd-4e239c34ee68"
      },
      "outputs": [
        {
          "output_type": "stream",
          "name": "stdout",
          "text": [
            "Overwriting incremental_plusplus.py\n"
          ]
        }
      ],
      "source": [
        "%%writefile incremental_plusplus.py\n",
        "import random\n",
        "\n",
        "TESTING_STEPS = 10\n",
        "incr_state = 0\n",
        "opponent_histogram = None\n",
        "\n",
        "def agent(observation, configuration):\n",
        "  global incr_state\n",
        "  global opponent_histogram\n",
        "\n",
        "  if(opponent_histogram is None):\n",
        "    opponent_histogram = [0]*configuration.signs\n",
        "  \n",
        "  if observation.step == 0:\n",
        "    #first turn\n",
        "    incr_state = random.randrange(0, configuration.signs) \n",
        "    result = incr_state\n",
        "  elif observation.step < TESTING_STEPS or max(opponent_histogram) != observation.step-1:\n",
        "    #researching or first TESTING_STEPS were't same turn value and use incremental tactic\n",
        "    incr_state += 1\n",
        "    result = incr_state % configuration.signs\n",
        "  else:\n",
        "    # scissors, rock paper bots\n",
        "    opponent_turns = opponent_histogram.index(max(opponent_histogram))\n",
        "    result = (opponent_turns + 1) % configuration.signs\n",
        "\n",
        "  if observation.step > 0:\n",
        "    opponent_action = observation.lastOpponentAction\n",
        "    opponent_histogram[opponent_action] += 1\n",
        "\n",
        "  return result"
      ]
    },
    {
      "cell_type": "markdown",
      "source": [
        "\n",
        "#Bot04-counter_statistical\n",
        "Bot03 - с легкостью победив 3х ботов с константой выдачей, попадает на первое место по количеству очков и на второе место по количеству побед.:D Нужно создать несколько тактик против других ботов.\n",
        "Для этого сделаем бота-противника для statistical"
      ],
      "metadata": {
        "id": "vs1u_9fK2Dob"
      }
    },
    {
      "cell_type": "code",
      "source": [
        "%%writefile counter_statistic.py\n",
        "import random\n",
        "\n",
        "TESTING_STEPS = 3\n",
        "awaiting_statistic_turn = 0\n",
        "my_histogram = None\n",
        "\n",
        "def agent(observation, configuration):\n",
        "  global awaiting_statistic_turn\n",
        "  global my_histogram\n",
        "\n",
        "  if my_histogram is None:\n",
        "    my_histogram = [0]*configuration.signs\n",
        "\n",
        "  if observation.step == 0:\n",
        "    result = random.randrange(0, configuration.signs) \n",
        "  else:\n",
        "    result = (awaiting_statistic_turn + 1) % configuration.signs\n",
        "\n",
        "  my_histogram[result] += 1\n",
        "  awaiting_statistic_turn = (my_histogram.index(max(my_histogram)) + 1) % configuration.signs\n",
        "\n",
        "  return result"
      ],
      "metadata": {
        "colab": {
          "base_uri": "https://localhost:8080/"
        },
        "id": "oyRgWALr4S7C",
        "outputId": "d993ba54-19d1-4f34-c9a5-030df0f06a79"
      },
      "execution_count": 37,
      "outputs": [
        {
          "output_type": "stream",
          "name": "stdout",
          "text": [
            "Overwriting counter_statistic.py\n"
          ]
        }
      ]
    },
    {
      "cell_type": "code",
      "source": [
        "evaluate(\n",
        "      \"rps\", \n",
        "      [\"counter_statistic.py\", \"statistical\"], \n",
        "      configuration={\"episodeSteps\": 100},\n",
        "      num_episodes = 10\n",
        ")\n"
      ],
      "metadata": {
        "colab": {
          "base_uri": "https://localhost:8080/"
        },
        "id": "wy6KNmGoOrko",
        "outputId": "a31eae0c-2544-4132-a811-114571bbf8e3"
      },
      "execution_count": 38,
      "outputs": [
        {
          "output_type": "execute_result",
          "data": {
            "text/plain": [
              "[[66.0, -66.0],\n",
              " [66.0, -66.0],\n",
              " [66.0, -66.0],\n",
              " [66.0, -66.0],\n",
              " [66.0, -66.0],\n",
              " [0, 0],\n",
              " [0, 0],\n",
              " [0, 0],\n",
              " [66.0, -66.0],\n",
              " [66.0, -66.0]]"
            ]
          },
          "metadata": {},
          "execution_count": 38
        }
      ]
    },
    {
      "cell_type": "markdown",
      "source": [
        "\n",
        "#Bot05-counter_statistic+\n",
        "Bot04 - С вероятностью 66% побеждает statistical, как побочный эффект иногда побеждает reactional and counter_reactional, но при этом проигрывает боту copy_opponent. Улучшим его и поставим защиту от copy opponent"
      ],
      "metadata": {
        "id": "HNknLte1VmLx"
      }
    },
    {
      "cell_type": "code",
      "source": [
        "%%writefile counter_statistic_plus.py\n",
        "import random\n",
        "\n",
        "TESTING_STEPS = 10\n",
        "\n",
        "opponent_tactics = {\n",
        "    \"statistic\":0,\n",
        "    \"copy\":0,\n",
        "    \"defence\":0\n",
        "}\n",
        "\n",
        "awaiting_statistic_turn = 0\n",
        "awaiting_defence_turn = 0\n",
        "awaiting_copy_turn = 0\n",
        "\n",
        "incr_state = 0\n",
        "my_histogram = None\n",
        "\n",
        "def agent(observation, configuration):\n",
        "  global incr_state\n",
        "  global expected_statistic_turn\n",
        "  global expected_defence_turn\n",
        "  global expected_copy_turn\n",
        "  global my_histogram\n",
        "  global opponent_tactics\n",
        "  \n",
        "  result = 0 \n",
        "  if(my_histogram is None):\n",
        "    my_histogram = [0]*configuration.signs\n",
        "  \n",
        "  # first turn\n",
        "  if observation.step == 0:\n",
        "    incr_state = random.randrange(0, configuration.signs - 1) \n",
        "    result = incr_state\n",
        "  \n",
        "  # collecting statistic\n",
        "  elif observation.step < TESTING_STEPS:\n",
        "    incr_state += 1\n",
        "    result = incr_state % configuration.signs\n",
        "  else:\n",
        "    predicted_tactic = max(\n",
        "      opponent_tactics.items(), \n",
        "      key = lambda e:e[1]\n",
        "    )[0]\n",
        "    \n",
        "    if predicted_tactic == \"statistic\":\n",
        "      result = (expected_statistic_turn + 1) % configuration.signs\n",
        "    \n",
        "    elif predicted_tactic == \"copy\":\n",
        "      result = expected_statistic_turn % configuration.signs\n",
        "    \n",
        "    elif predicted_tactic == \"defence\":\n",
        "      result = (expected_statistic_turn + 2) % configuration.signs\n",
        "\n",
        "  # calc opponent tactic stat\n",
        "  if(observation.step > 0):\n",
        "    opponent_action = observation.lastOpponentAction\n",
        "    if(opponent_action == expected_statistic_turn):\n",
        "      opponent_tactics[\"statistic\"] += 1\n",
        "  \n",
        "    if(opponent_action == expected_defence_turn):\n",
        "      opponent_tactics[\"defence\"] += 1\n",
        "\n",
        "    if(opponent_action == expected_copy_turn):\n",
        "      opponent_tactics[\"copy\"] += 1\n",
        "  \n",
        "\n",
        "  # calc my stat\n",
        "  my_histogram[result] += 1\n",
        "  my_hist_maxsign = my_histogram.index(max(my_histogram))\n",
        "  expected_statistic_turn = (my_hist_maxsign + 1) % configuration.signs\n",
        "  expected_defence_turn = (my_hist_maxsign + 2) % configuration.signs\n",
        "  expected_copy_turn = my_hist_maxsign  % configuration.signs\n",
        "\n",
        "  return result"
      ],
      "metadata": {
        "colab": {
          "base_uri": "https://localhost:8080/"
        },
        "id": "cxYPMO-SXGcD",
        "outputId": "a0e87e9d-a18c-460f-f1e7-3bd961983a33"
      },
      "execution_count": 39,
      "outputs": [
        {
          "output_type": "stream",
          "name": "stdout",
          "text": [
            "Overwriting counter_statistic_plus.py\n"
          ]
        }
      ]
    },
    {
      "cell_type": "code",
      "execution_count": 40,
      "metadata": {
        "colab": {
          "base_uri": "https://localhost:8080/"
        },
        "id": "tj1do0r1pA9b",
        "outputId": "2fedb631-f680-43fc-c9bc-feccf1eba5cd"
      },
      "outputs": [
        {
          "output_type": "execute_result",
          "data": {
            "text/plain": [
              "[[51.0, -51.0],\n",
              " [48.0, -48.0],\n",
              " [48.0, -48.0],\n",
              " [48.0, -48.0],\n",
              " [53.0, -53.0],\n",
              " [48.0, -48.0],\n",
              " [48.0, -48.0],\n",
              " [48.0, -48.0],\n",
              " [47.0, -47.0],\n",
              " [53.0, -53.0]]"
            ]
          },
          "metadata": {},
          "execution_count": 40
        }
      ],
      "source": [
        "evaluate(\n",
        "      \"rps\", \n",
        "      [\"counter_statistic_plus.py\", \"copy_opponent\"], \n",
        "      configuration={\"episodeSteps\": 100},\n",
        "      num_episodes = 10\n",
        ")\n"
      ]
    },
    {
      "cell_type": "markdown",
      "source": [
        "#Bot06-MultyTacticAnalyse\n",
        "Bot05 - Справляется с ботами copy_opponent и statistical. Добавим логику из Bot03,чтоб стравлялся с \"константными\" ботам."
      ],
      "metadata": {
        "id": "XiEg4EtZsqq6"
      }
    },
    {
      "cell_type": "code",
      "source": [
        "%%writefile multy_tactic_analyse.py\n",
        "import random\n",
        "\n",
        "TESTING_STEPS = 10\n",
        "\n",
        "opponent_tactics = {\n",
        "    \"statistic\":0,\n",
        "    \"copy\":0,\n",
        "    \"defence\":0,\n",
        "    \"repeat\":0,\n",
        "}\n",
        "\n",
        "expected_statistic_turn = 0\n",
        "expected_defence_turn = 0\n",
        "expected_copy_turn = 0\n",
        "\n",
        "incr_state = 0\n",
        "my_histogram = None\n",
        "\n",
        "opponent_old_action = 0\n",
        "\n",
        "def agent(observation, configuration):\n",
        "  global incr_state\n",
        "  global expected_statistic_turn\n",
        "  global expected_defence_turn\n",
        "  global expected_copy_turn\n",
        "  global my_histogram\n",
        "  global opponent_tactics\n",
        "  global opponent_old_action\n",
        "  \n",
        "  result = 0 \n",
        "  if(my_histogram is None):\n",
        "    my_histogram = [0]*configuration.signs\n",
        "  \n",
        "  # first turn\n",
        "  if observation.step == 0:\n",
        "    incr_state = random.randrange(0, configuration.signs - 1) \n",
        "    result = incr_state\n",
        "  \n",
        "  # collecting statistic\n",
        "  elif observation.step < TESTING_STEPS:\n",
        "    incr_state += 1\n",
        "    result = incr_state % configuration.signs\n",
        "  else:\n",
        "    predicted_tactic = max(\n",
        "      opponent_tactics.items(), \n",
        "      key = lambda e: e[1]\n",
        "    )[0]\n",
        "    \n",
        "    if predicted_tactic == \"statistic\":\n",
        "      result = (expected_statistic_turn + 1) % configuration.signs\n",
        "    \n",
        "    elif predicted_tactic == \"copy\":\n",
        "      result = expected_statistic_turn % configuration.signs\n",
        "    \n",
        "    elif predicted_tactic == \"defence\":\n",
        "      result = (expected_statistic_turn + 2) % configuration.signs\n",
        "\n",
        "    elif predicted_tactic == \"repeat\":\n",
        "      result = (opponent_old_action + 1) % configuration.signs\n",
        "\n",
        "\n",
        "  # calc opponent tactic stat\n",
        "  if(observation.step > 0):\n",
        "    opponent_action = observation.lastOpponentAction\n",
        "    if(opponent_action == opponent_old_action):\n",
        "      opponent_tactics[\"repeat\"] += 1\n",
        "\n",
        "    if(opponent_action == expected_statistic_turn):\n",
        "      opponent_tactics[\"statistic\"] += 1\n",
        "  \n",
        "    if(opponent_action == expected_defence_turn):\n",
        "      opponent_tactics[\"defence\"] += 1\n",
        "\n",
        "    if(opponent_action == expected_copy_turn):\n",
        "      opponent_tactics[\"copy\"] += 1\n",
        "\n",
        "    opponent_old_action = opponent_action\n",
        "  \n",
        "\n",
        "  # calc my stat\n",
        "  my_histogram[result] += 1\n",
        "  my_hist_maxsign = my_histogram.index(max(my_histogram))\n",
        "  expected_statistic_turn = (my_hist_maxsign + 1) % configuration.signs\n",
        "  expected_defence_turn = (my_hist_maxsign + 2) % configuration.signs\n",
        "  expected_copy_turn = my_hist_maxsign  % configuration.signs\n",
        "\n",
        "  return result"
      ],
      "metadata": {
        "colab": {
          "base_uri": "https://localhost:8080/"
        },
        "id": "WCGOTtjSsp-n",
        "outputId": "d479cc43-2e17-47b7-987e-078d7d3202ba"
      },
      "execution_count": 41,
      "outputs": [
        {
          "output_type": "stream",
          "name": "stdout",
          "text": [
            "Overwriting multy_tactic_analyse.py\n"
          ]
        }
      ]
    },
    {
      "cell_type": "code",
      "source": [
        "evaluate(\n",
        "      \"rps\", \n",
        "      [\"multy_tactic_analyse.py\", \"decremental_agent.py\"], \n",
        "      configuration={\"episodeSteps\": 100},\n",
        "      num_episodes = 10\n",
        ")"
      ],
      "metadata": {
        "id": "Ms7iKWl-9pkG",
        "outputId": "0cd81394-bd59-48e9-9170-002b061a27ae",
        "colab": {
          "base_uri": "https://localhost:8080/"
        }
      },
      "execution_count": 42,
      "outputs": [
        {
          "output_type": "execute_result",
          "data": {
            "text/plain": [
              "[[0, 0],\n",
              " [0, 0],\n",
              " [0, 0],\n",
              " [-84.0, 84.0],\n",
              " [-45.0, 45.0],\n",
              " [-45.0, 45.0],\n",
              " [0, 0],\n",
              " [0, 0],\n",
              " [0, 0],\n",
              " [0, 0]]"
            ]
          },
          "metadata": {},
          "execution_count": 42
        }
      ]
    },
    {
      "cell_type": "markdown",
      "source": [
        "#Bot07-MultyTacticAnalyse_2\n",
        "Bot06 - Бесспорный лидер, по очкам, победам, при этом нет ни одного поражения. Добавим логику чтоб справлялся с Incremenal и Decremental "
      ],
      "metadata": {
        "id": "D5UYg4GZwgmQ"
      }
    },
    {
      "cell_type": "code",
      "source": [
        "%%writefile multy_tactic_analyse_2.py\n",
        "import random\n",
        "\n",
        "TESTING_STEPS = 10\n",
        "\n",
        "opponent_tactics = {\n",
        "    \"statistic\": 0,\n",
        "    \"copy\": 0,\n",
        "    \"defence\": 0,\n",
        "    \"repeat\": 0,\n",
        "    \"increment\": 0,\n",
        "    \"decrement\": 0,\n",
        "}\n",
        "\n",
        "expected_statistic_turn = 0\n",
        "expected_defence_turn = 0\n",
        "expected_copy_turn = 0\n",
        "\n",
        "incr_state = 0\n",
        "my_histogram = None\n",
        "\n",
        "opponent_old_action = 0\n",
        "\n",
        "def agent(observation, configuration):\n",
        "  global incr_state\n",
        "  global expected_statistic_turn\n",
        "  global expected_defence_turn\n",
        "  global expected_copy_turn\n",
        "  global my_histogram\n",
        "  global opponent_tactics\n",
        "  global opponent_old_action\n",
        "  \n",
        "  result = 0\n",
        "  if(my_histogram is None):\n",
        "    my_histogram = [0] * configuration.signs\n",
        "  \n",
        "  # first turn\n",
        "  if observation.step == 0:\n",
        "    incr_state = random.randrange(0, configuration.signs - 1) \n",
        "    result = incr_state\n",
        "  \n",
        "  # till collecting statistic\n",
        "  elif observation.step < TESTING_STEPS:\n",
        "    incr_state += 1\n",
        "    result = incr_state % configuration.signs\n",
        "  else:\n",
        "    predicted_tactic = max(\n",
        "      opponent_tactics.items(), \n",
        "      key = lambda e:e[1]\n",
        "    )[0]\n",
        "    \n",
        "    if predicted_tactic == \"statistic\":\n",
        "      result = (expected_statistic_turn + 1) % configuration.signs\n",
        "    \n",
        "    elif predicted_tactic == \"copy\":\n",
        "      result = expected_statistic_turn % configuration.signs\n",
        "    \n",
        "    elif predicted_tactic == \"defence\":\n",
        "      result = (expected_statistic_turn + 2) % configuration.signs\n",
        "\n",
        "    elif predicted_tactic == \"repeat\":\n",
        "      result = (opponent_old_action + 1) % configuration.signs\n",
        "\n",
        "    elif predicted_tactic == \"increment\":\n",
        "      result = opponent_old_action % configuration.signs\n",
        "    \n",
        "    elif predicted_tactic == \"decrement\":\n",
        "      result = (opponent_old_action + 2) % configuration.signs\n",
        "\n",
        "  #calc opponent tactic stat\n",
        "  if observation.step > 0 :\n",
        "    opponent_action = observation.lastOpponentAction\n",
        "    if opponent_action == opponent_old_action :\n",
        "      opponent_tactics[\"repeat\"] += 1\n",
        "    \n",
        "    if opponent_action == (opponent_old_action + 1) % configuration.signs:\n",
        "      opponent_tactics[\"increment\"] += 1\n",
        "\n",
        "    if opponent_action == (opponent_old_action + 2) % configuration.signs:\n",
        "      opponent_tactics[\"decrement\"] += 1\n",
        "\n",
        "    if opponent_action == expected_statistic_turn:\n",
        "      opponent_tactics[\"statistic\"] += 1\n",
        "  \n",
        "    if(opponent_action == expected_defence_turn):\n",
        "      opponent_tactics[\"defence\"] += 1\n",
        "\n",
        "    if(opponent_action == expected_copy_turn):\n",
        "      opponent_tactics[\"copy\"] += 1\n",
        "\n",
        "    opponent_old_action = opponent_action\n",
        "  \n",
        "\n",
        "  #calc my stat\n",
        "  my_histogram[result] += 1\n",
        "  my_hist_maxsign = my_histogram.index(max(my_histogram))\n",
        "  expected_statistic_turn = (my_hist_maxsign + 1) % configuration.signs\n",
        "  expected_defence_turn = (my_hist_maxsign + 2) % configuration.signs\n",
        "  expected_copy_turn = my_hist_maxsign  % configuration.signs\n",
        "\n",
        "  return result"
      ],
      "metadata": {
        "colab": {
          "base_uri": "https://localhost:8080/"
        },
        "id": "HXEEu7aIwhu1",
        "outputId": "6247c814-da9c-4249-ad38-81a03256955b"
      },
      "execution_count": 43,
      "outputs": [
        {
          "output_type": "stream",
          "name": "stdout",
          "text": [
            "Overwriting multy_tactic_analyse_2.py\n"
          ]
        }
      ]
    },
    {
      "cell_type": "code",
      "source": [
        "evaluate(\n",
        "      \"rps\", \n",
        "      [\"multy_tactic_analyse_2.py\", \"decremental_agent.py\"], \n",
        "      configuration={\"episodeSteps\": 100},\n",
        "      num_episodes = 10\n",
        ")"
      ],
      "metadata": {
        "colab": {
          "base_uri": "https://localhost:8080/"
        },
        "id": "b1heNEYXu_eq",
        "outputId": "ef808c24-8e14-46de-90b5-83b5c790c708"
      },
      "execution_count": 44,
      "outputs": [
        {
          "output_type": "execute_result",
          "data": {
            "text/plain": [
              "[[90.0, -90.0],\n",
              " [88.0, -88.0],\n",
              " [88.0, -88.0],\n",
              " [89.0, -89.0],\n",
              " [88.0, -88.0],\n",
              " [89.0, -89.0],\n",
              " [89.0, -89.0],\n",
              " [88.0, -88.0],\n",
              " [90.0, -90.0],\n",
              " [89.0, -89.0]]"
            ]
          },
          "metadata": {},
          "execution_count": 44
        }
      ]
    },
    {
      "cell_type": "markdown",
      "source": [
        "\n",
        "#Bot08-testBot_Random\n",
        "Bot07 - Превзошел все ожидания одержав 29 побед из 33, где 2 ничьи и 2 поражения своим младшим братьям. Но теперь нужно проверить настолько ли он хорош на самом деле. Создадим ему разных оппоненов. Куда же нам без рандом бота)"
      ],
      "metadata": {
        "id": "baGDMoYL5ZaY"
      }
    },
    {
      "cell_type": "code",
      "source": [
        "%%writefile random_agent.py\n",
        "import random\n",
        "def agent(observation, configuration):\n",
        "  return random.randrange(0, configuration.signs) "
      ],
      "metadata": {
        "colab": {
          "base_uri": "https://localhost:8080/"
        },
        "id": "Fj9UVB-s5W9m",
        "outputId": "2ec5f51e-69fd-4932-9532-f36574e9bce9"
      },
      "execution_count": 45,
      "outputs": [
        {
          "output_type": "stream",
          "name": "stdout",
          "text": [
            "Overwriting random_agent.py\n"
          ]
        }
      ]
    },
    {
      "cell_type": "markdown",
      "source": [
        "#Bot09-testBot_WrongOrder_1\n",
        "к самому сильному боту Bot07, создаем различные тесты.\n",
        "\n",
        "0,1,2,1,0,1,2,1,0..."
      ],
      "metadata": {
        "id": "Ooe_04jL5Vb7"
      }
    },
    {
      "cell_type": "code",
      "source": [
        "%%writefile wrong_order_1.py\n",
        "increment = 0\n",
        "order = [0,1,2,1]\n",
        "def agent(observation, configuration):\n",
        "  global increment\n",
        "  increment += 1\n",
        "  return order[increment % len(order)]"
      ],
      "metadata": {
        "colab": {
          "base_uri": "https://localhost:8080/"
        },
        "id": "Szv21xij8NRL",
        "outputId": "8d11e692-8ba7-49d1-e734-efbc55627fbb"
      },
      "execution_count": 46,
      "outputs": [
        {
          "output_type": "stream",
          "name": "stdout",
          "text": [
            "Overwriting wrong_order_1.py\n"
          ]
        }
      ]
    },
    {
      "cell_type": "markdown",
      "source": [
        "#Bot10-testBot_WrongOrder_2\n",
        "к самому сильному боту Bot07, создаем различные тесты.\n",
        "\n",
        "0,0,0,0,1,1,1,2,2"
      ],
      "metadata": {
        "id": "iwYVGxng-JUq"
      }
    },
    {
      "cell_type": "code",
      "source": [
        "%%writefile wrong_order_2.py\n",
        "increment = 0\n",
        "order = [0,0,0,0,1,1,1,2,2]\n",
        "def agent(observation, configuration):\n",
        "  global increment\n",
        "  increment += 1\n",
        "  return order[increment % len(order)]"
      ],
      "metadata": {
        "colab": {
          "base_uri": "https://localhost:8080/"
        },
        "id": "-tCAWvtd-HXr",
        "outputId": "9fa6c9d3-1d42-4956-bcee-1b6769504c4c"
      },
      "execution_count": 47,
      "outputs": [
        {
          "output_type": "stream",
          "name": "stdout",
          "text": [
            "Overwriting wrong_order_2.py\n"
          ]
        }
      ]
    },
    {
      "cell_type": "markdown",
      "source": [
        "#Bot11-testBot_WrongOrder_3\n",
        "к самому сильному боту Bot07, создаем различные тесты.\n",
        "\n",
        "0,2,1,0,1,0,2,1"
      ],
      "metadata": {
        "id": "Vuk_zxvMBj-i"
      }
    },
    {
      "cell_type": "code",
      "source": [
        "%%writefile wrong_order_3.py\n",
        "increment = 0\n",
        "order = [0,2,1,0,1,0,2,1]\n",
        "def agent(observation, configuration):\n",
        "  global increment\n",
        "  increment += 1\n",
        "  return order[increment % len(order)]"
      ],
      "metadata": {
        "colab": {
          "base_uri": "https://localhost:8080/"
        },
        "id": "VNx0A0FJB2i8",
        "outputId": "29dc4700-22ea-424c-c0af-5f81a6114b86"
      },
      "execution_count": 48,
      "outputs": [
        {
          "output_type": "stream",
          "name": "stdout",
          "text": [
            "Overwriting wrong_order_3.py\n"
          ]
        }
      ]
    },
    {
      "cell_type": "markdown",
      "source": [
        "#Bot12-AntiBoss \n",
        "Вроде бы варитивными циклами взять Bot07 не получается, тогда попробуем сделать противника только для него, добавив к результату в конце 1, чтоб вернуть выигрышную коибинацию.\n"
      ],
      "metadata": {
        "id": "XaWlQ_ODDbvU"
      }
    },
    {
      "cell_type": "code",
      "source": [
        "%%writefile anti_boss.py\n",
        "import random\n",
        "\n",
        "TESTING_STEPS = 10\n",
        "\n",
        "opponent_tactics = {\n",
        "    \"statistic\":0,\n",
        "    \"copy\":0,\n",
        "    \"defence\":0,\n",
        "    \"repeat\":0,\n",
        "    \"increment\":0,\n",
        "    \"decrement\":0,\n",
        "}\n",
        "\n",
        "expected_statistic_turn = 0\n",
        "expected_defence_turn = 0\n",
        "expected_copy_turn = 0\n",
        "\n",
        "incr_state = 0\n",
        "my_histogram = None\n",
        "\n",
        "opponent_old_action = 0\n",
        "\n",
        "def agent(observation, configuration):\n",
        "  global incr_state\n",
        "  global expected_statistic_turn\n",
        "  global expected_defence_turn\n",
        "  global expected_copy_turn\n",
        "  global my_histogram\n",
        "  global opponent_tactics\n",
        "  global opponent_old_action\n",
        "  \n",
        "  result = 0 \n",
        "  if(my_histogram is None):\n",
        "    my_histogram = [0] * configuration.signs\n",
        "  \n",
        "  #first turn\n",
        "  if observation.step == 0:\n",
        "    incr_state = 0#random.randrange(0, configuration.signs - 1) \n",
        "    result = incr_state\n",
        "  \n",
        "  #till collecting statistic\n",
        "  elif observation.step < TESTING_STEPS:\n",
        "    incr_state += 1\n",
        "    result = incr_state % configuration.signs\n",
        "  else:\n",
        "    predicted_tactic = max(\n",
        "      opponent_tactics.items(), \n",
        "      key = lambda e:e[1])[0]\n",
        "    \n",
        "    if predicted_tactic == \"statistic\":\n",
        "      result = (expected_statistic_turn + 1) % configuration.signs\n",
        "    \n",
        "    elif predicted_tactic == \"copy\":\n",
        "      result = expected_statistic_turn % configuration.signs\n",
        "    \n",
        "    elif predicted_tactic == \"defence\":\n",
        "      result = (expected_statistic_turn + 2) % configuration.signs\n",
        "\n",
        "    elif predicted_tactic == \"repeat\":\n",
        "      result = (opponent_old_action + 1) % configuration.signs\n",
        "\n",
        "    elif predicted_tactic == \"increment\":\n",
        "      result = opponent_old_action % configuration.signs\n",
        "    \n",
        "    elif predicted_tactic == \"decrement\":\n",
        "      result = (opponent_old_action + 2) % configuration.signs\n",
        "\n",
        "  #calc opponent tactic stat\n",
        "  if observation.step > 0 :\n",
        "    opponent_action = observation.lastOpponentAction\n",
        "    if opponent_action == opponent_old_action :\n",
        "      opponent_tactics[\"repeat\"] += 1\n",
        "    \n",
        "    if opponent_action == (opponent_old_action + 1) % configuration.signs:\n",
        "      opponent_tactics[\"increment\"] += 1\n",
        "\n",
        "    if opponent_action == (opponent_old_action + 2) % configuration.signs:\n",
        "      opponent_tactics[\"decrement\"] += 1\n",
        "\n",
        "    if opponent_action == expected_statistic_turn:\n",
        "      opponent_tactics[\"statistic\"] += 1\n",
        "  \n",
        "    if(opponent_action == expected_defence_turn):\n",
        "      opponent_tactics[\"defence\"] += 1\n",
        "\n",
        "    if(opponent_action == expected_copy_turn):\n",
        "      opponent_tactics[\"copy\"] += 1\n",
        "\n",
        "    opponent_old_action = opponent_action\n",
        "  \n",
        "\n",
        "  #calc my stat\n",
        "  result = (result + 1) % configuration.signs\n",
        "  my_histogram[result] += 1\n",
        "  my_hist_maxsign = my_histogram.index(max(my_histogram))\n",
        "  expected_statistic_turn = (my_hist_maxsign + 1) % configuration.signs\n",
        "  expected_defence_turn = (my_hist_maxsign + 2) % configuration.signs\n",
        "  expected_copy_turn = my_hist_maxsign  % configuration.signs\n",
        "\n",
        "  return result"
      ],
      "metadata": {
        "colab": {
          "base_uri": "https://localhost:8080/"
        },
        "id": "ShezORl6D_jc",
        "outputId": "642a0d83-9b96-4d3c-be4a-910c5443a9e2"
      },
      "execution_count": 49,
      "outputs": [
        {
          "output_type": "stream",
          "name": "stdout",
          "text": [
            "Overwriting anti_boss.py\n"
          ]
        }
      ]
    },
    {
      "cell_type": "code",
      "source": [
        "evaluate(\n",
        "      \"rps\", \n",
        "      [\"anti_boss.py\",\"multy_tactic_analyse_2.py\"], \n",
        "      configuration={\"episodeSteps\": 100},\n",
        "      num_episodes = 10\n",
        "    )"
      ],
      "metadata": {
        "colab": {
          "base_uri": "https://localhost:8080/"
        },
        "id": "vUr5eKyVD_FO",
        "outputId": "c5f94e23-bac0-4ffa-cf96-49c48c83f791"
      },
      "execution_count": 50,
      "outputs": [
        {
          "output_type": "execute_result",
          "data": {
            "text/plain": [
              "[[54.0, -54.0],\n",
              " [54.0, -54.0],\n",
              " [0, 0],\n",
              " [54.0, -54.0],\n",
              " [54.0, -54.0],\n",
              " [0, 0],\n",
              " [0, 0],\n",
              " [0, 0],\n",
              " [54.0, -54.0],\n",
              " [0, 0]]"
            ]
          },
          "metadata": {},
          "execution_count": 50
        }
      ]
    },
    {
      "cell_type": "markdown",
      "metadata": {
        "id": "KAL8Fe_lj2E2"
      },
      "source": [
        "# Регистрация Агентов к турниру"
      ]
    },
    {
      "cell_type": "code",
      "execution_count": 51,
      "metadata": {
        "colab": {
          "base_uri": "https://localhost:8080/"
        },
        "id": "oukzKwuWij_a",
        "outputId": "f1f12152-a18c-44d4-d536-e2b4568c05c5"
      },
      "outputs": [
        {
          "output_type": "stream",
          "name": "stdout",
          "text": [
            "    incremental_agent.py          \tscore:0,     \tw|d|l: 0, 0, 0    \n",
            "losed to:set() \n",
            "\n",
            "    decremental_agent.py          \tscore:0,     \tw|d|l: 0, 0, 0    \n",
            "losed to:set() \n",
            "\n",
            "    incremental_plusplus.py       \tscore:0,     \tw|d|l: 0, 0, 0    \n",
            "losed to:set() \n",
            "\n",
            "    counter_statistic.py          \tscore:0,     \tw|d|l: 0, 0, 0    \n",
            "losed to:set() \n",
            "\n",
            "    counter_statistic_plus.py     \tscore:0,     \tw|d|l: 0, 0, 0    \n",
            "losed to:set() \n",
            "\n",
            "    multy_tactic_analyse.py       \tscore:0,     \tw|d|l: 0, 0, 0    \n",
            "losed to:set() \n",
            "\n",
            "    multy_tactic_analyse_2.py     \tscore:0,     \tw|d|l: 0, 0, 0    \n",
            "losed to:set() \n",
            "\n",
            "    random_agent.py               \tscore:0,     \tw|d|l: 0, 0, 0    \n",
            "losed to:set() \n",
            "\n",
            "    wrong_order_1.py              \tscore:0,     \tw|d|l: 0, 0, 0    \n",
            "losed to:set() \n",
            "\n",
            "    wrong_order_2.py              \tscore:0,     \tw|d|l: 0, 0, 0    \n",
            "losed to:set() \n",
            "\n",
            "    wrong_order_3.py              \tscore:0,     \tw|d|l: 0, 0, 0    \n",
            "losed to:set() \n",
            "\n",
            "    anti_boss.py                  \tscore:0,     \tw|d|l: 0, 0, 0    \n",
            "losed to:set() \n",
            "\n",
            "    rock                         \tscore:0,     \tw|d|l: 0, 0, 0    \n",
            "losed to:set() \n",
            "\n",
            "    paper                         \tscore:0,     \tw|d|l: 0, 0, 0    \n",
            "losed to:set() \n",
            "\n",
            "    scissors                      \tscore:0,     \tw|d|l: 0, 0, 0    \n",
            "losed to:set() \n",
            "\n",
            "    copy_opponent                 \tscore:0,     \tw|d|l: 0, 0, 0    \n",
            "losed to:set() \n",
            "\n",
            "    reactionary                   \tscore:0,     \tw|d|l: 0, 0, 0    \n",
            "losed to:set() \n",
            "\n",
            "    counter_reactionary           \tscore:0,     \tw|d|l: 0, 0, 0    \n",
            "losed to:set() \n",
            "\n",
            "    statistical                   \tscore:0,     \tw|d|l: 0, 0, 0    \n",
            "losed to:set() \n",
            "\n",
            "Agents Ready. Here we go!\n"
          ]
        }
      ],
      "source": [
        "kaggle_agents = [\n",
        "    \"rock\", \n",
        "    \"paper\", \n",
        "    \"scissors\",\n",
        "    \"copy_opponent\",\n",
        "    \"reactionary\",\n",
        "    \"counter_reactionary\",\n",
        "    \"statistical\"\n",
        "]\n",
        "\n",
        "my_agents = [\n",
        "    \"incremental_agent.py\",\n",
        "    \"decremental_agent.py\",\n",
        "    \"incremental_plusplus.py\",\n",
        "    \"counter_statistic.py\",\n",
        "    \"counter_statistic_plus.py\",\n",
        "    \"multy_tactic_analyse.py\",\n",
        "    \"multy_tactic_analyse_2.py\",\n",
        "    \"random_agent.py\",\n",
        "    \"wrong_order_1.py\",\n",
        "    \"wrong_order_2.py\",\n",
        "    \"wrong_order_3.py\",\n",
        "    \"anti_boss.py\"\n",
        "]\n",
        "\n",
        "agent_names =  my_agents + kaggle_agents\n",
        "\n",
        "#better to use clsss here but it is out of study scope now\n",
        "def create_agent_result(name):\n",
        "  obj = lambda:None\n",
        "  obj.name = name\n",
        "  def reset():\n",
        "    obj.score = 0\n",
        "    obj.wins = 0\n",
        "    obj.plays = 0\n",
        "    obj.draws = 0\n",
        "    obj.stronger_oppenents = set()  \n",
        "  obj.reset = reset\n",
        "  reset()\n",
        "\n",
        "  obj.to_string = lambda:f\"\\\n",
        "    {(obj.name + ' '*20)[:25]} \\\n",
        "    \\tscore:{obj.score}, \\\n",
        "    \\tw|d|l: {obj.wins}, {obj.draws}, {obj.plays - obj.wins - obj.draws}\\\n",
        "    \\nlosed to:{obj.stronger_oppenents}\"\n",
        "\n",
        "  return obj\n",
        "\n",
        "reward_dict = {}\n",
        "reward_list = [] # for sorting\n",
        "\n",
        "for i in agent_names:\n",
        "  new_agent = create_agent_result(i)\n",
        "  reward_dict[i] = new_agent;\n",
        "  reward_list.append(new_agent)\n",
        "  print(new_agent.to_string(),\"\\n\")\n",
        "\n",
        "print(\"Agents Ready. Here we go!\")"
      ]
    },
    {
      "cell_type": "markdown",
      "metadata": {
        "id": "QLBZxx8rtQjj"
      },
      "source": [
        "#Турнир"
      ]
    },
    {
      "cell_type": "code",
      "execution_count": 52,
      "metadata": {
        "colab": {
          "base_uri": "https://localhost:8080/"
        },
        "id": "4D6KAi-ui_wk",
        "outputId": "1cd6a07a-8626-449d-d95e-3bb6a91b6c85"
      },
      "outputs": [
        {
          "output_type": "stream",
          "name": "stdout",
          "text": [
            "1.    multy_tactic_analyse_2.py     \tscore:2577.0,     \tw|d|l: 41, 10, 3    \n",
            "losed to:{'anti_boss.py', 'multy_tactic_analyse.py', 'counter_statistic_plus.py'}.\n",
            "\n",
            "2.    multy_tactic_analyse.py       \tscore:1179.0,     \tw|d|l: 22, 29, 3    \n",
            "losed to:{'decremental_agent.py', 'incremental_plusplus.py'}.\n",
            "\n",
            "3.    statistical                   \tscore:574.0,     \tw|d|l: 21, 19, 14    \n",
            "losed to:{'multy_tactic_analyse.py', 'counter_statistic_plus.py', 'multy_tactic_analyse_2.py', 'reactionary', 'counter_reactionary'}.\n",
            "\n",
            "4.    reactionary                   \tscore:46.0,     \tw|d|l: 20, 16, 18    \n",
            "losed to:{'decremental_agent.py', 'counter_statistic.py', 'multy_tactic_analyse_2.py', 'wrong_order_1.py', 'counter_reactionary', 'wrong_order_3.py', 'copy_opponent'}.\n",
            "\n",
            "5.    counter_reactionary           \tscore:-34.0,     \tw|d|l: 19, 17, 18    \n",
            "losed to:{'decremental_agent.py', 'counter_statistic.py', 'anti_boss.py', 'multy_tactic_analyse_2.py', 'wrong_order_1.py', 'wrong_order_3.py', 'copy_opponent'}.\n",
            "\n",
            "6.    incremental_plusplus.py       \tscore:1194.0,     \tw|d|l: 18, 32, 4    \n",
            "losed to:{'incremental_agent.py', 'multy_tactic_analyse_2.py'}.\n",
            "\n",
            "7.    decremental_agent.py          \tscore:612.0,     \tw|d|l: 16, 31, 7    \n",
            "losed to:{'counter_reactionary', 'copy_opponent', 'multy_tactic_analyse_2.py'}.\n",
            "\n",
            "8.    copy_opponent                 \tscore:-346.0,     \tw|d|l: 13, 15, 26    \n",
            "losed to:{'incremental_plusplus.py', 'multy_tactic_analyse.py', 'counter_statistic_plus.py', 'wrong_order_2.py', 'multy_tactic_analyse_2.py', 'anti_boss.py', 'incremental_agent.py', 'reactionary', 'statistical'}.\n",
            "\n",
            "9.    anti_boss.py                  \tscore:-2091.0,     \tw|d|l: 13, 8, 33    \n",
            "losed to:{'decremental_agent.py', 'incremental_plusplus.py', 'counter_statistic.py', 'multy_tactic_analyse.py', 'counter_statistic_plus.py', 'scissors', 'rock', 'incremental_agent.py', 'paper', 'wrong_order_3.py', 'reactionary', 'statistical'}.\n",
            "\n",
            "10.    counter_statistic_plus.py     \tscore:562.0,     \tw|d|l: 12, 37, 5    \n",
            "losed to:{'decremental_agent.py', 'multy_tactic_analyse.py', 'multy_tactic_analyse_2.py'}.\n",
            "\n",
            "11.    wrong_order_3.py              \tscore:359.0,     \tw|d|l: 9, 39, 6    \n",
            "losed to:{'copy_opponent', 'multy_tactic_analyse_2.py'}.\n",
            "\n",
            "12.    incremental_agent.py          \tscore:329.0,     \tw|d|l: 9, 41, 4    \n",
            "losed to:{'incremental_plusplus.py', 'multy_tactic_analyse_2.py'}.\n",
            "\n",
            "13.    wrong_order_1.py              \tscore:153.0,     \tw|d|l: 9, 36, 9    \n",
            "losed to:{'statistical', 'scissors', 'anti_boss.py'}.\n",
            "\n",
            "14.    paper                         \tscore:-1186.0,     \tw|d|l: 9, 24, 21    \n",
            "losed to:{'incremental_plusplus.py', 'multy_tactic_analyse.py', 'scissors', 'multy_tactic_analyse_2.py', 'reactionary', 'counter_reactionary', 'statistical'}.\n",
            "\n",
            "15.    scissors                      \tscore:-1279.0,     \tw|d|l: 9, 23, 22    \n",
            "losed to:{'incremental_plusplus.py', 'multy_tactic_analyse.py', 'counter_statistic_plus.py', 'multy_tactic_analyse_2.py', 'rock', 'reactionary', 'counter_reactionary', 'statistical'}.\n",
            "\n",
            "16.    counter_statistic.py          \tscore:-385.0,     \tw|d|l: 7, 36, 11    \n",
            "losed to:{'decremental_agent.py', 'counter_reactionary', 'copy_opponent', 'multy_tactic_analyse_2.py'}.\n",
            "\n",
            "17.    rock                         \tscore:-1620.0,     \tw|d|l: 6, 21, 27    \n",
            "losed to:{'incremental_plusplus.py', 'multy_tactic_analyse.py', 'counter_statistic_plus.py', 'multy_tactic_analyse_2.py', 'wrong_order_1.py', 'paper', 'reactionary', 'counter_reactionary', 'statistical'}.\n",
            "\n",
            "18.    wrong_order_2.py              \tscore:-665.0,     \tw|d|l: 3, 25, 26    \n",
            "losed to:{'decremental_agent.py', 'incremental_plusplus.py', 'multy_tactic_analyse.py', 'anti_boss.py', 'multy_tactic_analyse_2.py', 'incremental_agent.py', 'paper', 'reactionary', 'counter_reactionary', 'statistical', 'random_agent.py'}.\n",
            "\n",
            "19.    random_agent.py               \tscore:21.0,     \tw|d|l: 1, 53, 0    \n",
            "losed to:set().\n",
            "\n"
          ]
        }
      ],
      "source": [
        "ATTEMTS_COUNT = 100\n",
        "BATTLES = 3\n",
        "\n",
        "#reset all result values\n",
        "for i in reward_dict.values(): i.reset()\n",
        "\n",
        "#battles\n",
        "for i in range(len(agent_names)):\n",
        "  for j in range(i+1, len(agent_names)):\n",
        "    agent_A = reward_dict[agent_names[i]]\n",
        "    agent_B = reward_dict[agent_names[j]]\n",
        "\n",
        "    battles = evaluate(\n",
        "      \"rps\", \n",
        "      [agent_A.name, agent_B.name], \n",
        "      configuration={\"episodeSteps\": ATTEMTS_COUNT},\n",
        "      num_episodes = BATTLES\n",
        "    )\n",
        "\n",
        "    for battle in battles:\n",
        "      agent_A.score += battle[0]\n",
        "      agent_B.score += battle[1]\n",
        "\n",
        "      if battle[0] > 0 :\n",
        "        agent_A.wins += 1\n",
        "        agent_B.stronger_oppenents.add(agent_A.name)\n",
        "      elif battle[1] > 0 :\n",
        "        agent_B.wins += 1\n",
        "        agent_A.stronger_oppenents.add(agent_B.name)\n",
        "      else:\n",
        "        agent_A.draws += 1\n",
        "        agent_B.draws += 1\n",
        "\n",
        "      agent_A.plays += 1\n",
        "      agent_B.plays += 1\n",
        "\n",
        "reward_list.sort(key = lambda e: (e.wins, e.score), reverse = True)\n",
        "for i,item in enumerate(reward_list): \n",
        "  print(i+1,item.to_string(),\"\\n\", sep= \".\")"
      ]
    }
  ],
  "metadata": {
    "colab": {
      "collapsed_sections": [
        "sh_jPTQNjE8q",
        "_w2Nj_zMFn5s",
        "2QJVOROiiQKc",
        "HNknLte1VmLx"
      ],
      "provenance": [],
      "include_colab_link": true
    },
    "kernelspec": {
      "display_name": "Python 3",
      "name": "python3"
    },
    "language_info": {
      "name": "python"
    }
  },
  "nbformat": 4,
  "nbformat_minor": 0
}